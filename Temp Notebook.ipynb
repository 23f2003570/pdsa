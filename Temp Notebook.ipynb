{
 "cells": [
  {
   "cell_type": "code",
   "execution_count": 2,
   "id": "d7522713-3405-48a3-84a2-2f4bd554fd1c",
   "metadata": {},
   "outputs": [
    {
     "name": "stdout",
     "output_type": "stream",
     "text": [
      "Start, End = (0, 2). SUM=7\n",
      "Start, End = (0, 1). SUM=5\n",
      "Start, End = (1, 1). SUM=4\n",
      "ERROR end < start\n",
      "(-1, -1)\n"
     ]
    }
   ],
   "source": [
    "class Solution:\n",
    "    def twoSum(self, nums: list[int], target: int) -> list[int]:\n",
    "        L = nums\n",
    "        steps_taken = 0\n",
    "        start = 0\n",
    "        end = len(L)-1\n",
    "\n",
    "        while True:\n",
    "            print(f\"Start, End = ({start}, {end}). SUM={L[start] + L[end]}\")\n",
    "            if L[start] + L[end] < target:\n",
    "                start += 1\n",
    "            elif L[start] + L[end] > target:\n",
    "                end -= 1\n",
    "            else:\n",
    "                return (start, end)\n",
    "            if end < start:\n",
    "                print(\"ERROR end < start\")\n",
    "                return (-1, -1)\n",
    "            if start > end:\n",
    "                print(\"ERROR start > end\")\n",
    "                return (-1, -1)\n",
    "\n",
    "        \n",
    "\n",
    "L = [2,11,19,-10,17,15]\n",
    "L = [3,2,4]\n",
    "T = 9\n",
    "T = 6\n",
    "print(Solution().twoSum(L, T))"
   ]
  },
  {
   "cell_type": "code",
   "execution_count": null,
   "id": "796770e0-cbd0-47bb-8950-b163b266a4fe",
   "metadata": {},
   "outputs": [],
   "source": []
  }
 ],
 "metadata": {
  "kernelspec": {
   "display_name": "Python 3 (ipykernel)",
   "language": "python",
   "name": "python3"
  },
  "language_info": {
   "codemirror_mode": {
    "name": "ipython",
    "version": 3
   },
   "file_extension": ".py",
   "mimetype": "text/x-python",
   "name": "python",
   "nbconvert_exporter": "python",
   "pygments_lexer": "ipython3",
   "version": "3.12.9"
  }
 },
 "nbformat": 4,
 "nbformat_minor": 5
}
