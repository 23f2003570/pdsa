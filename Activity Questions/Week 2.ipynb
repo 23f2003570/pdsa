{
 "cells": [
  {
   "cell_type": "code",
   "execution_count": 3,
   "id": "8abf6c9d-c708-4447-98bb-bcb197e799ed",
   "metadata": {},
   "outputs": [],
   "source": [
    "# %load utils/measure.py\n",
    "import time\n",
    "from functools import wraps\n",
    "\n",
    "def measure(func):\n",
    "    @wraps(func)\n",
    "    def wrapper(*args, **kwargs):\n",
    "        start = time.perf_counter_ns()\n",
    "        result = func(*args, **kwargs)\n",
    "        end = time.perf_counter_ns()\n",
    "        elapsed_ns = end - start\n",
    "        \n",
    "        if elapsed_ns < 1_000:\n",
    "            time_str = f\"{elapsed_ns} ns\"\n",
    "        elif elapsed_ns < 1_000_000:\n",
    "            time_str = f\"{elapsed_ns / 1_000:.3f} µs\"\n",
    "        elif elapsed_ns < 1_000_000_000:\n",
    "            time_str = f\"{elapsed_ns / 1_000_000:.3f} ms\"\n",
    "        else:\n",
    "            time_str = f\"{elapsed_ns / 1_000_000_000:.3f} s\"\n",
    "        \n",
    "        print(f\"Performance: {func.__name__}: {time_str}\")\n",
    "        return result\n",
    "    print(\"measure-new (util) loaded into global scope.\")\n",
    "    return wrapper\n"
   ]
  },
  {
   "cell_type": "markdown",
   "id": "8d00bc52-3085-4f62-8154-fae62444f1cf",
   "metadata": {},
   "source": [
    "# AQ 2.1"
   ]
  },
  {
   "cell_type": "markdown",
   "id": "fbb684b2-be48-4089-b65e-0bee9debb6ab",
   "metadata": {},
   "source": [
    "## Q1 ($n^2$ Time Complexity)"
   ]
  },
  {
   "cell_type": "code",
   "execution_count": 10,
   "id": "4c03f4a5-b5d0-492b-aaca-acade12a8b5a",
   "metadata": {},
   "outputs": [
    {
     "name": "stdout",
     "output_type": "stream",
     "text": [
      "Instructions executed for n = 100 is 5050\n"
     ]
    }
   ],
   "source": [
    "instr = 0\n",
    "\n",
    "def func(L, n):\n",
    "    global instr\n",
    "    if n <= 0:\n",
    "        return\n",
    "    for i in range(0,n):\n",
    "        instr += 1\n",
    "    func (L, n-1)\n",
    "\n",
    "n = 100\n",
    "func(list(range(0, n)), n)\n",
    "print(f\"Instructions executed for n = {n} is {instr}\")"
   ]
  },
  {
   "cell_type": "markdown",
   "id": "63c05172-34f9-4ff4-b303-2d5fa097d937",
   "metadata": {},
   "source": [
    "Note; this appears to be a $O(n^2)$ time complexity"
   ]
  },
  {
   "cell_type": "markdown",
   "id": "cf3bb0d3-57ad-48e6-909a-578d01c03c57",
   "metadata": {},
   "source": [
    "## Q2 (n log n Time Complexity)"
   ]
  },
  {
   "cell_type": "code",
   "execution_count": 13,
   "id": "2441c5fc-1aad-497c-b9c1-4f75f335b6c5",
   "metadata": {},
   "outputs": [
    {
     "name": "stdout",
     "output_type": "stream",
     "text": [
      "for n=1000, the function executed in 9976 steps\n"
     ]
    }
   ],
   "source": [
    "instr = 0\n",
    "def func(L):\n",
    "    global instr\n",
    "    \n",
    "    n = len(L)\n",
    "    if n <= 1:\n",
    "        return L\n",
    "    mid = n // 2\n",
    "    left = func(L[:mid])\n",
    "    right = func(L[mid:])\n",
    "    for i in range(0, len(L)):\n",
    "        instr += 1\n",
    "    return L\n",
    "\n",
    "n = 1000\n",
    "func(list(range(0,n)))\n",
    "print(f\"for n={n}, the function executed in {instr} steps\")"
   ]
  },
  {
   "cell_type": "markdown",
   "id": "32d0248f-b2cc-47a5-8b98-d687fa11dcd3",
   "metadata": {},
   "source": [
    "## Q3 ($n^3$ Time Complexity)"
   ]
  },
  {
   "cell_type": "code",
   "execution_count": 15,
   "id": "01c0e946-b54e-44ac-b5be-658c4738be71",
   "metadata": {},
   "outputs": [
    {
     "name": "stdout",
     "output_type": "stream",
     "text": [
      "for n=1000, the function executed in 1000000000 steps\n"
     ]
    }
   ],
   "source": [
    "instr = 0\n",
    "def func(L):\n",
    "    global instr\n",
    "    n = len(L)\n",
    "    for i in range(n):\n",
    "        for j in range(n):\n",
    "            for k in range(n):\n",
    "                instr += 1\n",
    "n = 1000\n",
    "func(list(range(0,n)))\n",
    "print(f\"for n={n}, the function executed in {instr} steps\")"
   ]
  },
  {
   "cell_type": "markdown",
   "id": "48f8c8fd-2215-4c65-8d60-c79a7f885388",
   "metadata": {},
   "source": [
    "## Q4 Time Complexity $O(n+log m)$"
   ]
  },
  {
   "cell_type": "code",
   "execution_count": 17,
   "id": "043d9e78-1cf5-4514-a5c6-18f0013a4383",
   "metadata": {},
   "outputs": [
    {
     "name": "stdout",
     "output_type": "stream",
     "text": [
      "for n=1000, the function executed in 1013 steps\n"
     ]
    }
   ],
   "source": [
    "instr = 0\n",
    "\n",
    "def func(L1,L2):\n",
    "    global instr\n",
    "    n = len(L1)\n",
    "    m = len(L2)\n",
    "    for i in range(n):  # Loop 1\n",
    "        instr += 1\n",
    "    while m > 1:  # Loop 2\n",
    "        m //= 2\n",
    "        instr += 1\n",
    "\n",
    "n = 1000\n",
    "m = 10000\n",
    "\n",
    "func(list(range(0,n)), list(range(0,m)))\n",
    "print(f\"for n={n}, the function executed in {instr} steps\")"
   ]
  },
  {
   "cell_type": "markdown",
   "id": "95af3d25-17f6-4934-a447-02777b2860c7",
   "metadata": {},
   "source": [
    "## Q5 Time Complexity $O(log n)$"
   ]
  },
  {
   "cell_type": "code",
   "execution_count": 21,
   "id": "2d4e5f9d-9c61-4e00-8709-d70c62695070",
   "metadata": {},
   "outputs": [
    {
     "name": "stdout",
     "output_type": "stream",
     "text": [
      "for n=1000000000, the function executed in 29 steps\n"
     ]
    }
   ],
   "source": [
    "instr = 0\n",
    "\n",
    "def func(n):\n",
    "    global instr\n",
    "    if n <= 1:\n",
    "        return\n",
    "    instr += 1\n",
    "    func(n // 2)\n",
    "\n",
    "\n",
    "n = 1000_000_000\n",
    "func(n)\n",
    "print(f\"for n={n}, the function executed in {instr} steps\")"
   ]
  },
  {
   "cell_type": "markdown",
   "id": "e553a28c-e33d-4fce-9914-a12ae5043869",
   "metadata": {},
   "source": [
    "## Q6 Time Complexity $O(n^2 log\\ n)$"
   ]
  },
  {
   "cell_type": "code",
   "execution_count": 22,
   "id": "1ea781a8-2574-4809-997a-0e232c85bd95",
   "metadata": {},
   "outputs": [
    {
     "name": "stdout",
     "output_type": "stream",
     "text": [
      "for n=1000, the function executed in 9000000 steps\n"
     ]
    }
   ],
   "source": [
    "instr = 0\n",
    "def func(L):\n",
    "    global instr\n",
    "    n = len (L)\n",
    "    for i in range(n):\n",
    "        for j in range(n):\n",
    "            k = n\n",
    "            while k > 1:\n",
    "                k //= 2\n",
    "                instr += 1\n",
    "n = 1000\n",
    "func(list(range(0,n)))\n",
    "print(f\"for n={n}, the function executed in {instr} steps\")"
   ]
  },
  {
   "cell_type": "markdown",
   "id": "1ccace52-13f8-4384-b7a6-d1916e334a98",
   "metadata": {},
   "source": [
    "# AQ 2.2"
   ]
  },
  {
   "cell_type": "code",
   "execution_count": 47,
   "id": "e7a7ae76-47fb-4f32-beef-358dfc14e601",
   "metadata": {},
   "outputs": [
    {
     "name": "stdout",
     "output_type": "stream",
     "text": [
      "6\n",
      "Round: 1 L:3 H:5, Mid: 2\n",
      "Found: Round: 2 L:3 H:5, Mid: 4\n",
      "Found 16 instructions = 2\n"
     ]
    }
   ],
   "source": [
    "instr = 0\n",
    "level = 0\n",
    "def bin_search(L, s):\n",
    "    global instr, level\n",
    "    low = 0\n",
    "    high = len(L) - 1\n",
    "    while low <= high:\n",
    "        instr += 1\n",
    "        level += 1\n",
    "        \n",
    "        mid = (low + high) // 2\n",
    "        if L[mid] < s:\n",
    "            low = mid + 1\n",
    "        elif L[mid] > s:\n",
    "            high = mid - 1\n",
    "        else:\n",
    "            print(f\"Found: Round: {level} L:{low} H:{high}, Mid: {mid}\")\n",
    "            return mid\n",
    "        print(f\"Round: {level} L:{low} H:{high}, Mid: {mid}\")\n",
    "    return False\n",
    "\n",
    "\n",
    "L = list(range(1, 34))\n",
    "L = [2,5,8,12,16,23,38]\n",
    "L = [4,7,10, 13, 16, 19]\n",
    "\n",
    "print(len(L))\n",
    "index = bin_search(L, 16) \n",
    "if index:\n",
    "    print(f\"Found {L[index]} instructions = {instr}\")\n",
    "else:\n",
    "    print(f\"not found instructions = {instr + 1}\")"
   ]
  },
  {
   "cell_type": "code",
   "execution_count": null,
   "id": "69d20ae7-bb79-4df7-a993-5572f806399d",
   "metadata": {},
   "outputs": [],
   "source": []
  },
  {
   "cell_type": "code",
   "execution_count": null,
   "id": "0c17dcc0-28cc-452d-a9e4-b6ed441fe060",
   "metadata": {},
   "outputs": [],
   "source": []
  }
 ],
 "metadata": {
  "kernelspec": {
   "display_name": "Python 3 (ipykernel)",
   "language": "python",
   "name": "python3"
  },
  "language_info": {
   "codemirror_mode": {
    "name": "ipython",
    "version": 3
   },
   "file_extension": ".py",
   "mimetype": "text/x-python",
   "name": "python",
   "nbconvert_exporter": "python",
   "pygments_lexer": "ipython3",
   "version": "3.12.9"
  }
 },
 "nbformat": 4,
 "nbformat_minor": 5
}
