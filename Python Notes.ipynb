{
 "cells": [
  {
   "cell_type": "markdown",
   "id": "7d19a5d4-f191-4b70-9722-a568217e76dc",
   "metadata": {},
   "source": [
    "# Python Notes"
   ]
  },
  {
   "cell_type": "markdown",
   "id": "ab8b0db8-7c0f-42f7-98ca-a1d4f59f04c6",
   "metadata": {},
   "source": [
    "## Initialize"
   ]
  },
  {
   "cell_type": "code",
   "execution_count": 13,
   "id": "b6ffb6db-0aad-4e71-b38b-ec024feacf1b",
   "metadata": {},
   "outputs": [],
   "source": [
    "# %load utils/measure.py\n",
    "import time\n",
    "from functools import wraps\n",
    "\n",
    "def measure(func):\n",
    "    @wraps(func)\n",
    "    def wrapper(*args, **kwargs):\n",
    "        start = time.perf_counter_ns()\n",
    "        result = func(*args, **kwargs)\n",
    "        end = time.perf_counter_ns()\n",
    "        elapsed_ns = end - start\n",
    "        \n",
    "        if elapsed_ns < 1_000:\n",
    "            time_str = f\"{elapsed_ns} ns\"\n",
    "        elif elapsed_ns < 1_000_000:\n",
    "            time_str = f\"{elapsed_ns / 1_000:.3f} µs\"\n",
    "        elif elapsed_ns < 1_000_000_000:\n",
    "            time_str = f\"{elapsed_ns / 1_000_000:.3f} ms\"\n",
    "        else:\n",
    "            time_str = f\"{elapsed_ns / 1_000_000_000:.3f} s\"\n",
    "        \n",
    "        print(f\"Performance: {func.__name__}: {time_str}\")\n",
    "        return result\n",
    "    print(\"measure-new (util) loaded into global scope.\")\n",
    "    return wrapper\n"
   ]
  },
  {
   "cell_type": "code",
   "execution_count": 15,
   "id": "d752b0f1-15ef-4be6-b749-58f12045cc64",
   "metadata": {},
   "outputs": [],
   "source": [
    "# %load utils/load_libs.py\n",
    "import matplotlib, math\n",
    "import matplotlib.pyplot as plt\n",
    "import numpy as np\n",
    "from scipy.interpolate import make_interp_spline\n",
    "import cProfile, pstats"
   ]
  },
  {
   "cell_type": "markdown",
   "id": "8a1b3a30-c14d-4174-bf46-f5c17ce5f251",
   "metadata": {},
   "source": [
    "## Exceptions"
   ]
  },
  {
   "cell_type": "markdown",
   "id": "935d6c6f-7720-42e0-aa53-26cd0ce98394",
   "metadata": {},
   "source": [
    "| Exception                  | Example that Raises It                                             |\n",
    "|---------------------------|---------------------------------------------------------------------|\n",
    "| `ZeroDivisionError`       | `1 / 0`                                                             |\n",
    "| `TypeError`               | `'a' + 1`                                                           |\n",
    "| `NameError`               | `print(undefined_var)`                                             |\n",
    "| `IndexError`              | `[1, 2, 3][5]`                                                      |\n",
    "| `KeyError`                | `{'a': 1}['b']`                                                     |\n",
    "| `AttributeError`          | `None.upper()`                                                     |\n",
    "| `ValueError`              | `int(\"abc\")`                                                       |\n",
    "| `ImportError`             | `import doesnotexist`                                              |\n",
    "| `ModuleNotFoundError`     | `import non_existing_module`                                       |\n",
    "| `FileNotFoundError`       | `open('no_such_file.txt')`                                         |\n",
    "| `PermissionError`         | `open('/root/secret.txt', 'w')` *(on Unix if not root)*            |\n",
    "| `IsADirectoryError`       | `open('/')`                                                        |\n",
    "| `NotADirectoryError`      | `open('file.txt/anotherfile')`                                     |\n",
    "| `OSError`                 | `os.remove('nonexistent_file.txt')` *(import os first)*            |\n",
    "| `RuntimeError`            | `raise RuntimeError(\"Something went wrong\")`                       |\n",
    "| `RecursionError`          | `def f(): f(); f()`                                                |\n",
    "| `MemoryError`             | `a = 'a' * 10**10` *(depends on system memory)*                    |\n",
    "| `FloatingPointError`      | `np.seterr(all='raise'); np.divide(1.0, 0.0)` *(needs NumPy)*      |\n",
    "| `StopIteration`           | `next(iter([]))`                                                   |\n",
    "| `StopAsyncIteration`      | *(Occurs in async iterators; hard to demo in one line)*            |\n",
    "| `EOFError`                | `input()` *(then press Ctrl+D/Z)*                                 |\n",
    "| `IndentationError`        | *(Occurs with bad indentation — can’t be demoed in one line)*      |\n",
    "| `SyntaxError`             | `eval(\"def = 5\")`                                                  |\n",
    "| `UnboundLocalError`       | `def f(): print(x); x = 1; f()`                                    |\n",
    "| `AssertionError`          | `assert False`                                                     |\n",
    "| `ArithmeticError`         | `raise ArithmeticError(\"custom arithmetic error\")`                 |\n",
    "| `BufferError`             | `memoryview(bytearray(5)).release(); len(memoryview(bytearray(5)))`|\n",
    "| `EnvironmentError`        | *(Alias for `OSError` in Python 2 — not typically used in Py3)*     |\n",
    "| `LookupError`             | `raise LookupError(\"lookup failed\")`                               |\n",
    "| `OverflowError`           | `math.exp(1000)` *(import math first)*                             |\n",
    "| `ReferenceError`          | *(Only with weakrefs; complex to show in one-liner)*               |\n",
    "| `BlockingIOError`         | *(Occurs with non-blocking I/O — advanced use)*                    |\n",
    "| `BrokenPipeError`         | *(Typically in subprocess communication — system-dependent)*       |\n",
    "| `ChildProcessError`       | *(Advanced multiprocessing errors — not easy to demo simply)*      |\n",
    "| `ConnectionError`         | *(Used in network code; subclassed by others below)*               |\n",
    "| `ConnectionAbortedError`  | *(Networking — raised on aborted connections)*                     |\n",
    "| `ConnectionRefusedError`  | *(Try connecting to a closed port)*                                |\n",
    "| `ConnectionResetError`    | *(Remote connection forcibly closed)*                              |\n",
    "| `FileExistsError`         | `open('existing_file.txt', 'x')` *(if file exists)*                |\n",
    "| `InterruptedError`        | *(Rare, from system signals or `signal` module)*                   |\n",
    "| `ProcessLookupError`      | `os.kill(999999, 9)` *(invalid PID)*                               |\n",
    "| `TimeoutError`            | *(Usually in `asyncio`, `socket`, or file operations)*             |\n",
    "\n",
    "---"
   ]
  },
  {
   "cell_type": "markdown",
   "id": "baaaf2bf-ebee-44dc-90c2-c6c5e51ffa4e",
   "metadata": {},
   "source": [
    "## String Representation of class"
   ]
  },
  {
   "cell_type": "code",
   "execution_count": 5,
   "id": "904a6621-95c6-4df8-83c4-d10eb12ba818",
   "metadata": {},
   "outputs": [
    {
     "name": "stdout",
     "output_type": "stream",
     "text": [
      "(10, 9)\n",
      "<__main__.Point2 object at 0x7f85c13787a0>\n",
      "(2, 4)\n",
      "(2, 4)\n"
     ]
    }
   ],
   "source": [
    "class Point:\n",
    "    def __init__(self, x, y):\n",
    "        self.x = x\n",
    "        self.y = y\n",
    "\n",
    "    def __str__(self):\n",
    "        return f\"({self.x}, {self.y})\"\n",
    "\n",
    "class Point2:\n",
    "    def __init__(self, x, y):\n",
    "        self.x = x\n",
    "        self.y = y\n",
    "\n",
    "print(Point(10,9))\n",
    "print(Point2(10,9))\n",
    "print(Point(2,4).__str__()) # Unnessary, assigning to a string is implicit\n",
    "str = Point(2,4)\n",
    "print(str) # (2,4)"
   ]
  },
  {
   "cell_type": "markdown",
   "id": "c2aae00a-46fc-4c94-ba1e-c379fdb5fc13",
   "metadata": {},
   "source": [
    "## Arithmatic Operators On Classes"
   ]
  },
  {
   "cell_type": "code",
   "execution_count": 10,
   "id": "98ee6c9d-e08c-493d-81e8-d92261e7fcef",
   "metadata": {},
   "outputs": [
    {
     "name": "stdout",
     "output_type": "stream",
     "text": [
      "(12, 23)\n"
     ]
    }
   ],
   "source": [
    "class Point:\n",
    "    def __init__(self, x, y):\n",
    "        self.x = x\n",
    "        self.y = y\n",
    "    def __add__(self, point):\n",
    "        return Point (self.x + point.x, self.y + point.y)\n",
    "        \n",
    "    def __str__(self):\n",
    "        return f\"({self.x}, {self.y})\"\n",
    "\n",
    "print(Point(10,20) + Point(2,3)) ## (12,23) no.... it was None due to no return"
   ]
  },
  {
   "cell_type": "markdown",
   "id": "f5d0e4d7-37c6-4d11-8444-5e83edbd068c",
   "metadata": {},
   "source": [
    "#### ✅ **Standard Arithmetic Operators**\n",
    "\n",
    "| Operator | Method             | Example               |\n",
    "|----------|--------------------|------------------------|\n",
    "| `+`      | `__add__(self, other)`      | `a + b` |\n",
    "| `-`      | `__sub__(self, other)`      | `a - b` |\n",
    "| `*`      | `__mul__(self, other)`      | `a * b` |\n",
    "| `/`      | `__truediv__(self, other)`  | `a / b` |\n",
    "| `//`     | `__floordiv__(self, other)` | `a // b` |\n",
    "| `%`      | `__mod__(self, other)`      | `a % b` |\n",
    "| `**`     | `__pow__(self, other)`      | `a ** b` |\n",
    "| `@`      | `__matmul__(self, other)`   | `a @ b` (matrix mult)\n",
    "\n",
    "---\n",
    "\n",
    "#### 🔁 **Reflected Operators** (if left operand doesn't support it)\n",
    "\n",
    "| Operator | Method                 | Example        |\n",
    "|----------|------------------------|----------------|\n",
    "| `+`      | `__radd__(self, other)` | `other + self` |\n",
    "| `-`      | `__rsub__(self, other)` | `other - self` |\n",
    "| `*`      | `__rmul__(self, other)` | `other * self` |\n",
    "| `/`      | `__rtruediv__`          | etc.           |\n",
    "| `//`     | `__rfloordiv__`         |                |\n",
    "| `%`      | `__rmod__`              |                |\n",
    "| `**`     | `__rpow__`              |                |\n",
    "| `@`      | `__rmatmul__`           |                |\n",
    "\n",
    "---\n",
    "\n",
    "#### 🔄 **In-place Operators**\n",
    "\n",
    "| Operator | Method                   | Example   |\n",
    "|----------|--------------------------|-----------|\n",
    "| `+=`     | `__iadd__(self, other)`  | `a += b`  |\n",
    "| `-=`     | `__isub__`               | etc.      |\n",
    "| `*=`     | `__imul__`               |           |\n",
    "| `/=`     | `__itruediv__`           |           |\n",
    "| `//=`    | `__ifloordiv__`          |           |\n",
    "| `%=`     | `__imod__`               |           |\n",
    "| `**=`    | `__ipow__`               |           |\n",
    "| `@=`     | `__imatmul__`            |           |\n",
    "\n",
    "---"
   ]
  },
  {
   "cell_type": "markdown",
   "id": "31dfa2c3-9e4b-4d5f-a87a-5e740d563272",
   "metadata": {},
   "source": [
    "## Performance"
   ]
  },
  {
   "cell_type": "code",
   "execution_count": 21,
   "id": "c6eb2b5f-6f7f-418f-b99f-c73e1cfed8b4",
   "metadata": {},
   "outputs": [
    {
     "name": "stdout",
     "output_type": "stream",
     "text": [
      "measure-new (util) loaded into global scope.\n",
      "100000000\n",
      "Performance: iterate: 6.909 s\n"
     ]
    }
   ],
   "source": [
    "@measure\n",
    "def iterate(n):\n",
    "    last = 0\n",
    "    for i in range(1,n+1):\n",
    "        last = math.sqrt(i)\n",
    "    print(i)\n",
    "\n",
    "\n",
    "iterate(100_000_000)"
   ]
  },
  {
   "cell_type": "markdown",
   "id": "a872a283-f71c-4df1-af01-39cd9887d5fb",
   "metadata": {},
   "source": [
    "In this case, we did 100 million operations which took 6.909 seconds. which is $1.4473874 \\times {10}^7$ operations per second, which is what Prof. Madhav Mukund indicated"
   ]
  }
 ],
 "metadata": {
  "kernelspec": {
   "display_name": "Python 3 (ipykernel)",
   "language": "python",
   "name": "python3"
  },
  "language_info": {
   "codemirror_mode": {
    "name": "ipython",
    "version": 3
   },
   "file_extension": ".py",
   "mimetype": "text/x-python",
   "name": "python",
   "nbconvert_exporter": "python",
   "pygments_lexer": "ipython3",
   "version": "3.12.9"
  }
 },
 "nbformat": 4,
 "nbformat_minor": 5
}
