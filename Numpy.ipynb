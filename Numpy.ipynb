{
 "cells": [
  {
   "cell_type": "markdown",
   "id": "f7e362eb-5535-4ac4-9db5-c6b3cb94a371",
   "metadata": {},
   "source": [
    "# NumPy Work"
   ]
  },
  {
   "cell_type": "code",
   "execution_count": 1,
   "id": "8969f43c-51ea-4839-a771-f92c9abd0ee8",
   "metadata": {},
   "outputs": [
    {
     "name": "stdout",
     "output_type": "stream",
     "text": [
      "[[0. 0. 0.]\n",
      " [0. 0. 0.]\n",
      " [0. 0. 0.]]\n"
     ]
    }
   ],
   "source": [
    "import numpy as np\n",
    "\n",
    "zeromatrix = np.zeros(shape=(3,3))\n",
    "print (zeromatrix)"
   ]
  },
  {
   "cell_type": "markdown",
   "id": "c32cfeeb-7714-4813-90b6-a4eecf4c41f5",
   "metadata": {},
   "source": [
    "## Matrix Multiplication"
   ]
  },
  {
   "cell_type": "code",
   "execution_count": 8,
   "id": "24691c53-5cb9-418d-80f3-df48838f3818",
   "metadata": {},
   "outputs": [
    {
     "name": "stdout",
     "output_type": "stream",
     "text": [
      "[[21 21 21]\n",
      " [51 54 57]]\n",
      "[[21 21 21]\n",
      " [51 54 57]]\n",
      "[[ 3  6  9]\n",
      " [12 15 18]]\n",
      "[[21 21 21]\n",
      " [51 54 57]]\n"
     ]
    }
   ],
   "source": [
    "import numpy as np\n",
    "\n",
    "A = np.array([\n",
    "    [1,2,3],\n",
    "    [4,5,6]\n",
    "])\n",
    "\n",
    "B = np.array([\n",
    "    [2,3,4],\n",
    "    [5,6,7],\n",
    "    [3,2,1]\n",
    "])\n",
    "\n",
    "print(np.dot(A,B))\n",
    "print(np.matmul(A,B))\n",
    "print(3 * A)\n",
    "print(A @ B)"
   ]
  },
  {
   "cell_type": "code",
   "execution_count": null,
   "id": "70eee91b-e27c-4892-b53d-940c7b121953",
   "metadata": {},
   "outputs": [],
   "source": []
  }
 ],
 "metadata": {
  "kernelspec": {
   "display_name": "Python 3 (ipykernel)",
   "language": "python",
   "name": "python3"
  },
  "language_info": {
   "codemirror_mode": {
    "name": "ipython",
    "version": 3
   },
   "file_extension": ".py",
   "mimetype": "text/x-python",
   "name": "python",
   "nbconvert_exporter": "python",
   "pygments_lexer": "ipython3",
   "version": "3.12.9"
  }
 },
 "nbformat": 4,
 "nbformat_minor": 5
}
