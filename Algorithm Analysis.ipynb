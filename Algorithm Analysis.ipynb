{
 "cells": [
  {
   "cell_type": "markdown",
   "id": "76d2987d-f6ec-4803-bf68-c714c37b8ab6",
   "metadata": {},
   "source": [
    "# Algorithm Analysis"
   ]
  },
  {
   "cell_type": "code",
   "execution_count": 3,
   "id": "f8eb6ad3-032e-499b-8d2c-254ced5b2943",
   "metadata": {},
   "outputs": [],
   "source": [
    "# %load utils/measure.py\n",
    "import time\n",
    "from functools import wraps\n",
    "\n",
    "def measure(func):\n",
    "    @wraps(func)\n",
    "    def wrapper(*args, **kwargs):\n",
    "        start = time.perf_counter_ns()\n",
    "        result = func(*args, **kwargs)\n",
    "        end = time.perf_counter_ns()\n",
    "        elapsed_ns = end - start\n",
    "        \n",
    "        if elapsed_ns < 1_000:\n",
    "            time_str = f\"{elapsed_ns} ns\"\n",
    "        elif elapsed_ns < 1_000_000:\n",
    "            time_str = f\"{elapsed_ns / 1_000:.3f} µs\"\n",
    "        elif elapsed_ns < 1_000_000_000:\n",
    "            time_str = f\"{elapsed_ns / 1_000_000:.3f} ms\"\n",
    "        else:\n",
    "            time_str = f\"{elapsed_ns / 1_000_000_000:.3f} s\"\n",
    "        \n",
    "        print(f\"Performance: {func.__name__}: {time_str}\")\n",
    "        return result\n",
    "    print(\"measure-new (util) loaded into global scope.\")\n",
    "    return wrapper\n"
   ]
  },
  {
   "cell_type": "markdown",
   "id": "6ade19d0-8094-47db-a8ac-0d535f3e94c9",
   "metadata": {},
   "source": [
    "## List"
   ]
  },
  {
   "cell_type": "markdown",
   "id": "1e799666-e7da-4220-a19f-a007f3d3ff63",
   "metadata": {},
   "source": [
    "### Append to a List"
   ]
  },
  {
   "cell_type": "code",
   "execution_count": 4,
   "id": "7e04fde2-e6df-4de5-86c9-4498e3c51e7a",
   "metadata": {},
   "outputs": [
    {
     "name": "stdout",
     "output_type": "stream",
     "text": [
      "measure-new (util) loaded into global scope.\n",
      "Performance: do_append: 543.249 ms\n"
     ]
    }
   ],
   "source": [
    "@measure\n",
    "def do_append(n):\n",
    "    L = []\n",
    "    for i in range(0,n):\n",
    "        L.append(i)\n",
    "\n",
    "do_append(10_000_000)"
   ]
  },
  {
   "cell_type": "markdown",
   "id": "3a1f2bb0-414a-41e9-b531-9346117f45d4",
   "metadata": {},
   "source": [
    "## Insert in top of list"
   ]
  },
  {
   "cell_type": "code",
   "execution_count": 6,
   "id": "94552569-125e-4307-82c6-66bddbb0d333",
   "metadata": {},
   "outputs": [
    {
     "name": "stdout",
     "output_type": "stream",
     "text": [
      "measure-new (util) loaded into global scope.\n",
      "Performance: do_insert: 102.169 s\n"
     ]
    }
   ],
   "source": [
    "@measure\n",
    "def do_insert(n):\n",
    "    L = []\n",
    "    for i in range (0,n):\n",
    "        L.insert(0,i)\n",
    "\n",
    "do_insert(1_000_000)"
   ]
  },
  {
   "cell_type": "markdown",
   "id": "9acc32ff-022b-49d8-a93d-0874321ae6b8",
   "metadata": {},
   "source": [
    "## Count Bits in a number"
   ]
  },
  {
   "cell_type": "code",
   "execution_count": 17,
   "id": "8b03f43a-9f57-45c6-9486-eb2cc72423ad",
   "metadata": {},
   "outputs": [
    {
     "name": "stdout",
     "output_type": "stream",
     "text": [
      "number 255 (0b11111111) has 8 bits\n",
      "number 1 (0b1) has 1 bits\n",
      "number 0 (0b0) has 0 bits\n",
      "number -100 (-0b1100100) has 0 bits\n"
     ]
    }
   ],
   "source": [
    "def count_bits(n):\n",
    "    bits = 1 if n > 0 else 0\n",
    "    scratch = n\n",
    "    while scratch > 1:\n",
    "        scratch = scratch //2\n",
    "        bits += 1\n",
    "        \n",
    "    print (f\"number {n} ({bin(n)}) has {bits} bits\")\n",
    "\n",
    "count_bits(255)\n",
    "count_bits(1)\n",
    "count_bits(0)\n",
    "count_bits(-100)"
   ]
  },
  {
   "cell_type": "markdown",
   "id": "b5948f4b-49e2-42ec-aafb-94d32a29b97a",
   "metadata": {},
   "source": [
    "### Note: Fix the 2's complement"
   ]
  },
  {
   "cell_type": "markdown",
   "id": "977fb2d3-4cf4-462e-9856-9c31581c910a",
   "metadata": {},
   "source": [
    "# Recurrance Relations"
   ]
  },
  {
   "cell_type": "markdown",
   "id": "2333d2ff-2ee2-4154-9832-584d596bf146",
   "metadata": {},
   "source": [
    "## Problem #1 $T(n) = 2T\\left(\\frac{n}{2}\\right) + n^2$\n",
    "\n",
    "using the Master Theorem.\n",
    "\n",
    "---\n",
    "\n",
    "### Step 1: Identify Parameters\n",
    "\n",
    "The recurrence is of the form:\n",
    "$\n",
    "T(n) = aT\\left(\\frac{n}{b}\\right) + f(n)\n",
    "$\n",
    "\n",
    "Here:\n",
    "- $a = 2$\n",
    "- $b = 2$\n",
    "- $f(n) = n^2$\n",
    "\n",
    "---\n",
    "\n",
    "### Step 2: Compute the Critical Exponent\n",
    "\n",
    "Calculate $n^{\\log_b a}$:\n",
    "\n",
    "$\n",
    "\\log_b a = \\log_2 2 = 1\n",
    "$\n",
    "\n",
    "So,\n",
    "$\n",
    "n^{\\log_2 2} = n^1 = n\n",
    "$\n",
    "\n",
    "---\n",
    "\n",
    "### Step 3: Compare $f(n)$ with $n^{\\log_b a}$\n",
    "\n",
    "- $f(n) = n^2$\n",
    "- $n^{\\log_2 2} = n$\n",
    "\n",
    "Here, $f(n)$ grows **faster** than $n^{\\log_b a}$ (since $n^2$ dominates $n$ for large $n$).\n",
    "\n",
    "So, $f(n) = \\Omega(n^{\\log_b a + \\epsilon})$ for some $\\epsilon > 0$ (specifically, $\\epsilon = 1$).\n",
    "\n",
    "---\n",
    "\n",
    "### Step 4: Check the Regularity Condition\n",
    "\n",
    "The regularity condition requires that:\n",
    "$\n",
    "a \\cdot f\\left(\\frac{n}{b}\\right) \\leq c \\cdot f(n)\n",
    "$\n",
    "for some constant $c < 1$ and sufficiently large $n$.\n",
    "\n",
    "Let’s check:\n",
    "$\n",
    "a \\cdot f\\left(\\frac{n}{b}\\right) = 2 \\cdot \\left(\\frac{n}{2}\\right)^2 = 2 \\cdot \\frac{n^2}{4} = \\frac{n^2}{2}\n",
    "$\n",
    "\n",
    "So,\n",
    "$\n",
    "\\frac{n^2}{2} \\leq c \\cdot n^2\n",
    "$\n",
    "$\n",
    "\\Rightarrow c \\geq \\frac{1}{2}\n",
    "$\n",
    "\n",
    "We can pick $c = 0.9$ (or any $c < 1$), so the condition is satisfied.\n",
    "\n",
    "---\n",
    "\n",
    "### Step 5: Write the Solution\n",
    "\n",
    "By **Case 3** of the Master Theorem:\n",
    "$\n",
    "T(n) = \\Theta(f(n)) = \\Theta(n^2)\n",
    "$\n",
    "\n",
    "---\n",
    "\n",
    "### Step 6: Interpretation\n",
    "\n",
    "This means the recurrence grows like $n^2$ (quadratic time), which is faster than linear or $n \\log n$.\n",
    "\n",
    "---\n",
    "\n",
    "#### Summary Table\n",
    "\n",
    "| Parameter | Value         |\n",
    "|-----------|--------------|\n",
    "| $a$       | 2            |\n",
    "| $b$       | 2            |\n",
    "| $f(n)$    | $n^2$        |\n",
    "| Case      | 3            |\n",
    "| Solution  | $\\Theta(n^2)$|\n",
    "\n",
    "---"
   ]
  },
  {
   "cell_type": "code",
   "execution_count": null,
   "id": "8403604f-c674-41a9-93c6-a67a638062ce",
   "metadata": {},
   "outputs": [],
   "source": []
  }
 ],
 "metadata": {
  "kernelspec": {
   "display_name": "Python 3 (ipykernel)",
   "language": "python",
   "name": "python3"
  },
  "language_info": {
   "codemirror_mode": {
    "name": "ipython",
    "version": 3
   },
   "file_extension": ".py",
   "mimetype": "text/x-python",
   "name": "python",
   "nbconvert_exporter": "python",
   "pygments_lexer": "ipython3",
   "version": "3.12.9"
  }
 },
 "nbformat": 4,
 "nbformat_minor": 5
}
