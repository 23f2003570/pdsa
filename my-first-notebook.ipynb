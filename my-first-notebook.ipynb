{
 "cells": [
  {
   "cell_type": "markdown",
   "id": "ada9a358-4215-4819-8564-e8275964c809",
   "metadata": {},
   "source": [
    "# This is a heading"
   ]
  },
  {
   "cell_type": "markdown",
   "id": "e47960ad-4b0b-4879-bbef-7e2e0bc7de32",
   "metadata": {},
   "source": [
    "## Bubble Sort (recursive)"
   ]
  },
  {
   "cell_type": "code",
   "execution_count": 20,
   "id": "f3b7d2be-56e2-410f-9c84-ae1769bacde7",
   "metadata": {},
   "outputs": [
    {
     "name": "stdout",
     "output_type": "stream",
     "text": [
      "L1: [34, 1, 34, 55, 88, 89]\n",
      "L2: [1, 34, 34, 55, 88, 89]\n",
      "sorted: [1, 34, 34, 55, 88, 89] count of iterations 2\n"
     ]
    }
   ],
   "source": [
    "call_count=0\n",
    "\n",
    "def sort(nums):\n",
    "    global call_count\n",
    "\n",
    "    sorted=False\n",
    "    for i in range(1,len(nums)):\n",
    "        if nums[i] < nums[i-1]:\n",
    "            nums[i], nums[i-1] = nums[i-1], nums[i]\n",
    "            sorted=True\n",
    "    if (sorted):\n",
    "        call_count = call_count + 1\n",
    "        print(f\"L{call_count}: {nums}\")\n",
    "        return sort(nums)\n",
    "    return nums\n",
    "\n",
    "print (f\"sorted: {sort([89,34,1,34,55,88])} count of iterations {call_count}\")"
   ]
  },
  {
   "cell_type": "markdown",
   "id": "a5ba1f77-403a-4a00-a89b-4e7a8e1c14da",
   "metadata": {},
   "source": [
    "## Bubble Sort (iterative)"
   ]
  },
  {
   "cell_type": "code",
   "execution_count": 22,
   "id": "c7cab0c5-4c2f-4f07-a10d-6550fffa6791",
   "metadata": {},
   "outputs": [
    {
     "name": "stdout",
     "output_type": "stream",
     "text": [
      "sorted: [1, 34, 34, 55, 88, 89]\n"
     ]
    }
   ],
   "source": [
    "def sort(nums):\n",
    "    sorted = False\n",
    "    while not sorted:\n",
    "        has_changed = False\n",
    "        for i in range (1, len(nums)):\n",
    "            if nums[i] < nums[i-1]:\n",
    "                nums[i], nums[i-1] = nums[i-1], nums[i]\n",
    "                has_changed=True\n",
    "        if not has_changed:\n",
    "            sorted = True\n",
    "    return nums\n",
    "                \n",
    "print (f\"sorted: {sort([89,34,1,34,55,88])}\")"
   ]
  }
 ],
 "metadata": {
  "kernelspec": {
   "display_name": "Python 3 (ipykernel)",
   "language": "python",
   "name": "python3"
  },
  "language_info": {
   "codemirror_mode": {
    "name": "ipython",
    "version": 3
   },
   "file_extension": ".py",
   "mimetype": "text/x-python",
   "name": "python",
   "nbconvert_exporter": "python",
   "pygments_lexer": "ipython3",
   "version": "3.12.9"
  }
 },
 "nbformat": 4,
 "nbformat_minor": 5
}
