{
 "cells": [
  {
   "cell_type": "markdown",
   "id": "8aff2042-0436-4670-a520-d3e926a4ee89",
   "metadata": {},
   "source": [
    "# BFS"
   ]
  },
  {
   "cell_type": "code",
   "execution_count": 4,
   "id": "92e128f5-19c7-4e4b-bcb8-c255ecc6c412",
   "metadata": {},
   "outputs": [
    {
     "name": "stdout",
     "output_type": "stream",
     "text": [
      "([False, True, True, True, True, True], [None, None, 1, 1, 3, 2])\n"
     ]
    }
   ],
   "source": [
    "# Queue Version\n",
    "\n",
    "all_nodes_accessible = {\n",
    "    0: [1,2,4],\n",
    "    1: [0,2],\n",
    "    2: [0,1],\n",
    "    3: [4,5,6],\n",
    "    4: [0,3,7],\n",
    "    5: [3,6,7],\n",
    "    6: [3,5],\n",
    "    7: [4,5,8],\n",
    "    8: [5,7],\n",
    "    9: [8]\n",
    "}\n",
    "\n",
    "directed_adj_list = {\n",
    "    0: [1],\n",
    "    1: [2,3],\n",
    "    2: [5],\n",
    "    3: [4],\n",
    "    4: [5],\n",
    "    5: []\n",
    "}\n",
    "\n",
    "adj_list = directed_adj_list\n",
    "\n",
    "def bfs(start, adj_list):\n",
    "    discovered = [False] * len(adj_list)\n",
    "    parent = [None] * len(adj_list)\n",
    "    discovered[start] = True\n",
    "    q = []\n",
    "    q.append(start) # Enqueue\n",
    "\n",
    "    while q:\n",
    "        j = q.pop(0) # dequeue\n",
    "        for neighbour in adj_list[j]:\n",
    "            if not discovered[neighbour]:\n",
    "                discovered[neighbour] = True\n",
    "                parent[neighbour] = j\n",
    "                q.append(neighbour) # enqueue\n",
    "    return discovered, parent\n",
    "\n",
    "print(bfs(1, adj_list))\n",
    "            \n",
    "    "
   ]
  },
  {
   "cell_type": "markdown",
   "id": "b352bafe-39cf-4c86-81cd-2d06be5de645",
   "metadata": {},
   "source": [
    "- BFS: Used for shortest path  \n",
    "- DFS: Used for longest path"
   ]
  },
  {
   "cell_type": "code",
   "execution_count": null,
   "id": "12132963-3f2a-4d2e-9b73-92cdb7f7500a",
   "metadata": {},
   "outputs": [],
   "source": []
  }
 ],
 "metadata": {
  "kernelspec": {
   "display_name": "Python 3 (ipykernel)",
   "language": "python",
   "name": "python3"
  },
  "language_info": {
   "codemirror_mode": {
    "name": "ipython",
    "version": 3
   },
   "file_extension": ".py",
   "mimetype": "text/x-python",
   "name": "python",
   "nbconvert_exporter": "python",
   "pygments_lexer": "ipython3",
   "version": "3.12.9"
  }
 },
 "nbformat": 4,
 "nbformat_minor": 5
}
