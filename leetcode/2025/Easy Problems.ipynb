{
 "cells": [
  {
   "cell_type": "code",
   "execution_count": 96,
   "id": "0d6683d4-db41-419c-99a3-c54ab2eaba71",
   "metadata": {},
   "outputs": [],
   "source": [
    "# %load ../../utils/measure.py\n",
    "import time\n",
    "from functools import wraps\n",
    "\n",
    "def measure(func):\n",
    "    @wraps(func)\n",
    "    def wrapper(*args, **kwargs):\n",
    "        start = time.perf_counter_ns()\n",
    "        result = func(*args, **kwargs)\n",
    "        end = time.perf_counter_ns()\n",
    "        elapsed_ns = end - start\n",
    "        \n",
    "        if elapsed_ns < 1_000:\n",
    "            time_str = f\"{elapsed_ns} ns\"\n",
    "        elif elapsed_ns < 1_000_000:\n",
    "            time_str = f\"{elapsed_ns / 1_000:.3f} µs\"\n",
    "        elif elapsed_ns < 1_000_000_000:\n",
    "            time_str = f\"{elapsed_ns / 1_000_000:.3f} ms\"\n",
    "        else:\n",
    "            time_str = f\"{elapsed_ns / 1_000_000_000:.3f} s\"\n",
    "        \n",
    "        print(f\"Performance: {func.__name__}: {time_str}\")\n",
    "        return result\n",
    "    print(\"measure-new (util) loaded into global scope.\")\n",
    "    return wrapper\n"
   ]
  },
  {
   "cell_type": "markdown",
   "id": "d3c06c0f-2b39-447f-a739-1757f1ba3a3d",
   "metadata": {
    "jp-MarkdownHeadingCollapsed": true
   },
   "source": [
    "## 2094. Finding 3-Digit Even Numbers"
   ]
  },
  {
   "cell_type": "markdown",
   "id": "e23c6797-9c58-4d67-89b3-bf842f3a2b4e",
   "metadata": {},
   "source": [
    "You are given an integer array digits, where each element is a digit. The array may contain duplicates.\n",
    "\n",
    "You need to find all the unique integers that follow the given requirements:\n",
    "\n",
    "The integer consists of the concatenation of three elements from digits in any arbitrary order.\n",
    "The integer does not have leading zeros.\n",
    "The integer is even.\n",
    "For example, if the given digits were [1, 2, 3], integers 132 and 312 follow the requirements.\n",
    "\n",
    "Return a sorted array of the unique integers.\n",
    "\n",
    " \n",
    "\n",
    "Example 1:\n",
    "\n",
    "Input: digits = [2,1,3,0]\n",
    "Output: [102,120,130,132,210,230,302,310,312,320]\n",
    "Explanation: All the possible integers that follow the requirements are in the output array. \n",
    "Notice that there are no odd integers or integers with leading zeros.\n",
    "Example 2:\n",
    "\n",
    "Input: digits = [2,2,8,8,2]\n",
    "Output: [222,228,282,288,822,828,882]\n",
    "Explanation: The same digit can be used as many times as it appears in digits. \n",
    "In this example, the digit 8 is used twice each time in 288, 828, and 882. \n",
    "Example 3:\n",
    "\n",
    "Input: digits = [3,7,5]\n",
    "Output: []\n",
    "Explanation: No even integers can be formed using the given digits.\n",
    " \n",
    "\n",
    "Constraints:\n",
    "\n",
    "3 <= digits.length <= 100\n",
    "0 <= digits[i] <= 9"
   ]
  },
  {
   "cell_type": "code",
   "execution_count": 102,
   "id": "80740172-59f0-4681-a6ef-425d18ee65d2",
   "metadata": {},
   "outputs": [
    {
     "name": "stdout",
     "output_type": "stream",
     "text": [
      "measure-new (util) loaded into global scope.\n",
      "Performance: findEvenNumbers: 10.749 µs\n",
      "len: 0, []\n"
     ]
    }
   ],
   "source": [
    "max_size=2\n",
    "\n",
    "class Solution:\n",
    "    def permutate(self, digits) -> list[int]:\n",
    "        results = []\n",
    "\n",
    "        def backtrack(start, path):\n",
    "            if len(path) == max_size:\n",
    "                p = path[:]\n",
    "                \n",
    "                r1 = ''.join(map(str, p))\n",
    "                r2 = ''.join(map(str, reversed(p)))\n",
    "                if r1 not in results and r1[0] != 0:\n",
    "                    results.append(r1)\n",
    "                if r2 not in results and r2[0] != 0:\n",
    "                    results.append(r2)\n",
    "                return\n",
    "            for i in range(start, len(digits)):\n",
    "                path.append(digits[i])\n",
    "                backtrack(i + 1, path)\n",
    "                path.pop()  # backtrack\n",
    "\n",
    "        backtrack(0, [])\n",
    "\n",
    "        return sorted(results)\n",
    "            \n",
    "    @measure\n",
    "    def findEvenNumbers(self, digits: list[int]) -> list[int]:\n",
    "        result = list[int]()\n",
    "\n",
    "        for trail_index in range(0, len(digits)):\n",
    "            if digits[trail_index] % 2 == 0:\n",
    "                actual_array = digits[0:trail_index]\n",
    "                actual_array += digits[trail_index + 1:]\n",
    "                res = self.permutate(actual_array)\n",
    "\n",
    "                for r in res:\n",
    "                    if r[0] != '0':\n",
    "                        v = int(r + str(digits[trail_index]))\n",
    "                        if not v in result:\n",
    "                            result.append(v)\n",
    "        return sorted(result)\n",
    "#digits = [2,2,8,8,2]\n",
    "#digits = [3,7,5]\n",
    "#digits = [2,1,3,0]  ## res: [102,120,130,132,210,230,302,310,312,320]\n",
    "#digits = [1,2]\n",
    "digits = [2,2,8,8,2]\n",
    "digits = [8,8,8,8,8,8,8,8,8,8,8,8,8,8,8,8,8,8,8,8,8,8,8,8,8,8,8,8,8,8,8,8,8,8,8,8,8,8,8,8,8,8,8,8,8,8,8,8,8,8,8,8,8,8,8,8,8,8,8,8,8,8,8,8,8,8,8,8,8,8,8,8,8,8,8,8,8,8,8,8,8,8,8,8,8,8,8,8,8,8,8,8,8,8,8,8,8,8,8,8]\n",
    "\n",
    "res = Solution().findEvenNumbers(digits)\n",
    "print(f'len: {len(res)}, {res}')\n"
   ]
  },
  {
   "cell_type": "markdown",
   "id": "af1b30e9-3bd5-4740-916b-41c88fbe7b24",
   "metadata": {},
   "source": [
    "The above code says Time Limit Exceeded\n",
    "\n",
    "72 / 79 testcases passed"
   ]
  },
  {
   "cell_type": "code",
   "execution_count": 121,
   "id": "b57f9472-eda0-41a8-a613-cf5f92b4a6c2",
   "metadata": {},
   "outputs": [
    {
     "name": "stdout",
     "output_type": "stream",
     "text": [
      "measure-new (util) loaded into global scope.\n",
      "[8, 8, 8]\n",
      "Performance: findEvenNumbers: 426.179 ms\n",
      "[888]\n"
     ]
    }
   ],
   "source": [
    "max_size = 2\n",
    "\n",
    "class Solution:\n",
    "    def permutate(self, digits) -> set[str]:\n",
    "        results = set()\n",
    "\n",
    "        def backtrack(start, path):\n",
    "            if len(path) == max_size:\n",
    "                if path[0] == 0:  # Skip numbers that start with 0\n",
    "                    return\n",
    "                r1 = ''.join(map(str, path))\n",
    "                r2 = ''.join(map(str, reversed(path)))\n",
    "                results.add(r1)\n",
    "                results.add(r2)\n",
    "                return\n",
    "\n",
    "            for i in range(start, len(digits)):\n",
    "                path.append(digits[i])\n",
    "                backtrack(i + 1, path)\n",
    "                path.pop()\n",
    "\n",
    "        backtrack(0, [])\n",
    "        return results\n",
    "\n",
    "    @measure\n",
    "    def findEvenNumbers(self, digits: list[int]) -> list[int]:\n",
    "        result = set()\n",
    "\n",
    "        m = {}\n",
    "        for d in digits:\n",
    "            if not d in m:\n",
    "                m[d] = 1\n",
    "            elif m[d] < 3:\n",
    "                m[d] += 1\n",
    "\n",
    "        new_digits = []\n",
    "        for k in m:\n",
    "            for cnt in range(m[k]):\n",
    "                new_digits.append(k)\n",
    "\n",
    "        print (new_digits)\n",
    "            \n",
    "            \n",
    "        \n",
    "        for i, d in enumerate(digits):\n",
    "            if d % 2 == 0:\n",
    "                # Construct the list excluding the current even digit\n",
    "                remaining = digits[:i] + digits[i+1:]\n",
    "                perms = self.permutate(remaining)\n",
    "\n",
    "                for prefix in perms:\n",
    "                    if prefix[0] == '0':\n",
    "                        continue\n",
    "                    num = int(prefix + str(d))\n",
    "                    result.add(num)\n",
    "\n",
    "        return sorted(result)\n",
    "\n",
    "# Test\n",
    "digits = [2, 2, 8, 8, 2]\n",
    "digits = [8,8,8,8,8,8,8,8,8,8,8,8,8,8,8,8,8,8,8,8,8,8,8,8,8,8,8,8,8,8,8,8,8,8,8,8,8,8,8,8,8,8,8,8,8,8,8,8,8,8,8,8,8,8,8,8,8,8,8,8,8,8,8,8,8,8,8,8,8,8,8,8,8,8,8,8,8,8,8,8,8,8,8,8,8,8,8,8,8,8,8,8,8,8,8,8,8,8,8,8]\n",
    "digits = [0,0,2,2,4,4,6,6,8,8,0,0,2,2,4,4,6,6,8,8,0,0,2,2,4,4,6,6,8,8,0,0,2,2,4,4,6,6,8,8,0,0,2,2,4,4,6,6,8,8,0,0,2,2,4,4,6,6,8,8,0,0,2,2,4,4,6,6,8,8,0,0,2,2,4,4,6,6,8,8,0,0,2,2,4,4,6,6,8,8,0,0,2,2,4,4,6,6,8,8]\n",
    "res = Solution().findEvenNumbers(digits)\n",
    "print(res)\n"
   ]
  },
  {
   "cell_type": "code",
   "execution_count": null,
   "id": "7835f481-d5f5-432e-a4ed-5c1f95b1b3d4",
   "metadata": {},
   "outputs": [],
   "source": [
    "Daily Coding Challenge Completed!\n",
    "\n",
    "Completion Streak:\n",
    "1\n",
    "Day"
   ]
  },
  {
   "cell_type": "markdown",
   "id": "ae7a1edc-b3b1-42a1-a1d5-cbd5b70e6d9a",
   "metadata": {},
   "source": [
    "### 2094. Winning Soluttion"
   ]
  },
  {
   "cell_type": "code",
   "execution_count": 123,
   "id": "185b47b4-a09e-4c14-987c-43b8dede79c8",
   "metadata": {},
   "outputs": [
    {
     "name": "stdout",
     "output_type": "stream",
     "text": [
      "[200, 202, 204, 206, 208, 220, 222, 224, 226, 228, 240, 242, 244, 246, 248, 260, 262, 264, 266, 268, 280, 282, 284, 286, 288, 400, 402, 404, 406, 408, 420, 422, 424, 426, 428, 440, 442, 444, 446, 448, 460, 462, 464, 466, 468, 480, 482, 484, 486, 488, 600, 602, 604, 606, 608, 620, 622, 624, 626, 628, 640, 642, 644, 646, 648, 660, 662, 664, 666, 668, 680, 682, 684, 686, 688, 800, 802, 804, 806, 808, 820, 822, 824, 826, 828, 840, 842, 844, 846, 848, 860, 862, 864, 866, 868, 880, 882, 884, 886, 888]\n"
     ]
    }
   ],
   "source": [
    "from collections import Counter\n",
    "class Solution:\n",
    "    def findEvenNumbers(self, digits: list[int]) -> list[int]:\n",
    "        digits_counter = Counter(map(str,digits))\n",
    "\n",
    "        def isPossible(n):\n",
    "            num = Counter(str(n))\n",
    "            return num == (num & digits_counter)\n",
    "\n",
    "        output = list(filter(isPossible, range(100,1000,2)))\n",
    "\n",
    "        return output\n",
    "\n",
    "digits = [2, 2, 8, 8, 2]\n",
    "digits = [8,8,8,8,8,8,8,8,8,8,8,8,8,8,8,8,8,8,8,8,8,8,8,8,8,8,8,8,8,8,8,8,8,8,8,8,8,8,8,8,8,8,8,8,8,8,8,8,8,8,8,8,8,8,8,8,8,8,8,8,8,8,8,8,8,8,8,8,8,8,8,8,8,8,8,8,8,8,8,8,8,8,8,8,8,8,8,8,8,8,8,8,8,8,8,8,8,8,8,8]\n",
    "digits = [0,0,2,2,4,4,6,6,8,8,0,0,2,2,4,4,6,6,8,8,0,0,2,2,4,4,6,6,8,8,0,0,2,2,4,4,6,6,8,8,0,0,2,2,4,4,6,6,8,8,0,0,2,2,4,4,6,6,8,8,0,0,2,2,4,4,6,6,8,8,0,0,2,2,4,4,6,6,8,8,0,0,2,2,4,4,6,6,8,8,0,0,2,2,4,4,6,6,8,8]\n",
    "res = Solution().findEvenNumbers(digits)\n",
    "\n",
    "print(res)"
   ]
  },
  {
   "cell_type": "markdown",
   "id": "d6ace12e-de26-450e-bad3-9a7925885f14",
   "metadata": {},
   "source": [
    "### 2094. Award Winning Solution Complexity $O(n^3 + M \\log M)$"
   ]
  },
  {
   "cell_type": "code",
   "execution_count": 126,
   "id": "5621354e-d2cb-4c26-969c-2441c56394b0",
   "metadata": {},
   "outputs": [
    {
     "name": "stdout",
     "output_type": "stream",
     "text": [
      "[200, 202, 204, 206, 208, 220, 222, 224, 226, 228, 240, 242, 244, 246, 248, 260, 262, 264, 266, 268, 280, 282, 284, 286, 288, 400, 402, 404, 406, 408, 420, 422, 424, 426, 428, 440, 442, 444, 446, 448, 460, 462, 464, 466, 468, 480, 482, 484, 486, 488, 600, 602, 604, 606, 608, 620, 622, 624, 626, 628, 640, 642, 644, 646, 648, 660, 662, 664, 666, 668, 680, 682, 684, 686, 688, 800, 802, 804, 806, 808, 820, 822, 824, 826, 828, 840, 842, 844, 846, 848, 860, 862, 864, 866, 868, 880, 882, 884, 886, 888]\n"
     ]
    }
   ],
   "source": [
    "class Solution:\n",
    "    def findEvenNumbers(self, digits: list[int]) -> list[int]:\n",
    "        nums = set()  # Target even set\n",
    "        n = len(digits)\n",
    "        # Traverse the indices of three digits\n",
    "        for i in range(n):\n",
    "            for j in range(n):\n",
    "                for k in range(n):\n",
    "                    # Determine whether it meets the condition of the target even number\n",
    "                    if i == j or j == k or i == k:\n",
    "                        continue\n",
    "                    num = digits[i] * 100 + digits[j] * 10 + digits[k]\n",
    "                    if num >= 100 and num % 2 == 0:\n",
    "                        nums.add(num)\n",
    "        # Converted to an array sorted in ascending order\n",
    "        res = sorted(list(nums))\n",
    "        return res\n",
    "\n",
    "\n",
    "digits = [2, 2, 8, 8, 2]\n",
    "digits = [8,8,8,8,8,8,8,8,8,8,8,8,8,8,8,8,8,8,8,8,8,8,8,8,8,8,8,8,8,8,8,8,8,8,8,8,8,8,8,8,8,8,8,8,8,8,8,8,8,8,8,8,8,8,8,8,8,8,8,8,8,8,8,8,8,8,8,8,8,8,8,8,8,8,8,8,8,8,8,8,8,8,8,8,8,8,8,8,8,8,8,8,8,8,8,8,8,8,8,8]\n",
    "digits = [0,0,2,2,4,4,6,6,8,8,0,0,2,2,4,4,6,6,8,8,0,0,2,2,4,4,6,6,8,8,0,0,2,2,4,4,6,6,8,8,0,0,2,2,4,4,6,6,8,8,0,0,2,2,4,4,6,6,8,8,0,0,2,2,4,4,6,6,8,8,0,0,2,2,4,4,6,6,8,8,0,0,2,2,4,4,6,6,8,8,0,0,2,2,4,4,6,6,8,8]\n",
    "res = Solution().findEvenNumbers(digits)\n",
    "\n",
    "print(res)"
   ]
  },
  {
   "cell_type": "markdown",
   "id": "cbb6ce17-5059-4d16-b324-ca3b97b24062",
   "metadata": {},
   "source": [
    "### 2094. $O(N)$ Solution"
   ]
  },
  {
   "cell_type": "code",
   "execution_count": 128,
   "id": "c699f964-ff6f-457c-a937-b65c736e50fe",
   "metadata": {},
   "outputs": [
    {
     "name": "stdout",
     "output_type": "stream",
     "text": [
      "[200, 202, 204, 206, 208, 220, 222, 224, 226, 228, 240, 242, 244, 246, 248, 260, 262, 264, 266, 268, 280, 282, 284, 286, 288, 400, 402, 404, 406, 408, 420, 422, 424, 426, 428, 440, 442, 444, 446, 448, 460, 462, 464, 466, 468, 480, 482, 484, 486, 488, 600, 602, 604, 606, 608, 620, 622, 624, 626, 628, 640, 642, 644, 646, 648, 660, 662, 664, 666, 668, 680, 682, 684, 686, 688, 800, 802, 804, 806, 808, 820, 822, 824, 826, 828, 840, 842, 844, 846, 848, 860, 862, 864, 866, 868, 880, 882, 884, 886, 888]\n"
     ]
    }
   ],
   "source": [
    "class Solution:\n",
    "    def findEvenNumbers(self, a: list[int]) -> list[int]:\n",
    "        z = Counter(a)\n",
    "        return [v for v in range(100,1000,2) if Counter(map(int,str(v)))<=z]\n",
    "\n",
    "\n",
    "digits = [2, 2, 8, 8, 2]\n",
    "digits = [8,8,8,8,8,8,8,8,8,8,8,8,8,8,8,8,8,8,8,8,8,8,8,8,8,8,8,8,8,8,8,8,8,8,8,8,8,8,8,8,8,8,8,8,8,8,8,8,8,8,8,8,8,8,8,8,8,8,8,8,8,8,8,8,8,8,8,8,8,8,8,8,8,8,8,8,8,8,8,8,8,8,8,8,8,8,8,8,8,8,8,8,8,8,8,8,8,8,8,8]\n",
    "digits = [0,0,2,2,4,4,6,6,8,8,0,0,2,2,4,4,6,6,8,8,0,0,2,2,4,4,6,6,8,8,0,0,2,2,4,4,6,6,8,8,0,0,2,2,4,4,6,6,8,8,0,0,2,2,4,4,6,6,8,8,0,0,2,2,4,4,6,6,8,8,0,0,2,2,4,4,6,6,8,8,0,0,2,2,4,4,6,6,8,8,0,0,2,2,4,4,6,6,8,8]\n",
    "res = Solution().findEvenNumbers(digits)\n",
    "\n",
    "print(res)"
   ]
  },
  {
   "cell_type": "markdown",
   "id": "b5185c5d-2fb9-4205-9a04-bf6b1e7a9540",
   "metadata": {},
   "source": [
    "### My next approach (inspired by the above)"
   ]
  },
  {
   "cell_type": "code",
   "execution_count": 154,
   "id": "75489ffe-9192-4f60-bec2-cb01e80da1d2",
   "metadata": {},
   "outputs": [
    {
     "name": "stdout",
     "output_type": "stream",
     "text": [
      "measure-new (util) loaded into global scope.\n",
      "Performance: findEvenNumbers: 475.672 µs\n",
      "[222, 228, 282, 288, 822, 828, 882]\n"
     ]
    }
   ],
   "source": [
    "class Solution:\n",
    "    def count_freq(self, L: list[int]):\n",
    "        dct = {}\n",
    "        for n in L:\n",
    "            if n in dct:\n",
    "                dct[n] += 1\n",
    "            else:\n",
    "                dct[n] = 1\n",
    "        return dct\n",
    "        \n",
    "    @measure\n",
    "    def findEvenNumbers(self, L: list[int]) -> list[int]:\n",
    "        nums = []\n",
    "        freq = self.count_freq(L)\n",
    "        \n",
    "        for i in range(100, 1000, 2):\n",
    "            a = list(map(int, str(i)))\n",
    "            d = self.count_freq(a)\n",
    "\n",
    "            all_match = True\n",
    "            for k in d:\n",
    "                if k in freq:\n",
    "                    if d[k] > freq[k]:\n",
    "                        all_match = False\n",
    "                        break\n",
    "                else:\n",
    "                    all_match = False\n",
    "                    break\n",
    "            if all_match:\n",
    "                nums.append(i)\n",
    "\n",
    "        return nums\n",
    "digits = [2, 2, 8, 8, 2]\n",
    "#digits = [8,8,8,8,8,8,8,8,8,8,8,8,8,8,8,8,8,8,8,8,8,8,8,8,8,8,8,8,8,8,8,8,8,8,8,8,8,8,8,8,8,8,8,8,8,8,8,8,8,8,8,8,8,8,8,8,8,8,8,8,8,8,8,8,8,8,8,8,8,8,8,8,8,8,8,8,8,8,8,8,8,8,8,8,8,8,8,8,8,8,8,8,8,8,8,8,8,8,8,8]\n",
    "#digits = [0,0,2,2,4,4,6,6,8,8,0,0,2,2,4,4,6,6,8,8,0,0,2,2,4,4,6,6,8,8,0,0,2,2,4,4,6,6,8,8,0,0,2,2,4,4,6,6,8,8,0,0,2,2,4,4,6,6,8,8,0,0,2,2,4,4,6,6,8,8,0,0,2,2,4,4,6,6,8,8,0,0,2,2,4,4,6,6,8,8,0,0,2,2,4,4,6,6,8,8]\n",
    "res = Solution().findEvenNumbers(digits)\n",
    "\n",
    "print(res)"
   ]
  },
  {
   "cell_type": "markdown",
   "id": "236608d2-eb2c-4123-8699-0f14f4227a81",
   "metadata": {},
   "source": [
    "This executed in 27 ms Beats 76.67%"
   ]
  },
  {
   "cell_type": "markdown",
   "id": "9606b1ff-4a6e-486c-a76f-14b35ddb77c3",
   "metadata": {},
   "source": [
    "## 1. Two Sum"
   ]
  },
  {
   "cell_type": "markdown",
   "id": "8d9334fd-03b3-4bf5-bce0-12c85a701501",
   "metadata": {},
   "source": [
    "Given an array of integers nums and an integer target, return indices of the two numbers such that they add up to target.\n",
    "\n",
    "You may assume that each input would have exactly one solution, and you may not use the same element twice.\n",
    "\n",
    "You can return the answer in any order.\n",
    "\n",
    " \n",
    "\n",
    "Example 1:\n",
    "\n",
    "Input: nums = [2,7,11,15], target = 9\n",
    "Output: [0,1]\n",
    "Explanation: Because nums[0] + nums[1] == 9, we return [0, 1].\n",
    "Example 2:\n",
    "\n",
    "Input: nums = [3,2,4], target = 6\n",
    "Output: [1,2]\n",
    "Example 3:\n",
    "\n",
    "Input: nums = [3,3], target = 6\n",
    "Output: [0,1]\n",
    " \n",
    "\n",
    "Constraints:\n",
    "\n",
    "2 <= nums.length <= 104\n",
    "-109 <= nums[i] <= 109\n",
    "-109 <= target <= 109\n",
    "Only one valid answer exists.\n",
    " \n",
    "\n",
    "Follow-up: Can you come up with an algorithm that is less than O(n2) time complexity?"
   ]
  },
  {
   "cell_type": "code",
   "execution_count": 155,
   "id": "71a343b3-8f89-44a6-a5c1-ac6bf1fbea55",
   "metadata": {},
   "outputs": [
    {
     "name": "stdout",
     "output_type": "stream",
     "text": [
      "(0, 1)\n"
     ]
    }
   ],
   "source": [
    "class Solution:\n",
    "    def twoSum(self, nums: list[int], target: int) -> list[int]:\n",
    "        for i in range(len(nums)):\n",
    "            for j in range(len(nums)):\n",
    "                if nums[i] + nums[j] == target:\n",
    "                    return (i, j)\n",
    "\n",
    "        return (-1, -1)\n",
    "\n",
    "\n",
    "\n",
    "L = [2,7,11,15]\n",
    "T = 9\n",
    "print(Solution().twoSum(L, T))\n",
    "\n",
    "## This is a N^2 algo and 1790ms Beats 16.92%"
   ]
  },
  {
   "cell_type": "code",
   "execution_count": null,
   "id": "8bc9bd05-b820-4fc5-b9f9-5bd8de73aec2",
   "metadata": {},
   "outputs": [],
   "source": [
    "class Solution:\n",
    "    def twoSum(self, nums: list[int], target: int) -> list[int]:\n",
    "        d = {}\n",
    "        for i in range(0, len(nums)):\n",
    "            other = \n",
    "\n",
    "L = [2,7,11,15]\n",
    "T = 9\n",
    "print(Solution().twoSum(L, T))"
   ]
  }
 ],
 "metadata": {
  "kernelspec": {
   "display_name": "Python 3 (ipykernel)",
   "language": "python",
   "name": "python3"
  },
  "language_info": {
   "codemirror_mode": {
    "name": "ipython",
    "version": 3
   },
   "file_extension": ".py",
   "mimetype": "text/x-python",
   "name": "python",
   "nbconvert_exporter": "python",
   "pygments_lexer": "ipython3",
   "version": "3.12.9"
  }
 },
 "nbformat": 4,
 "nbformat_minor": 5
}
