{
 "cells": [
  {
   "cell_type": "markdown",
   "id": "dbd432ee-9557-4c98-a9c8-2e046d5eb3c0",
   "metadata": {},
   "source": [
    "## Definitions\n",
    "\n",
    "- $T(n)$ is the number of computer steps to calculate an algorithm\n",
    "- $f=O(g)$ is like saying $f(x)$ **grows no more than** $g(x)$\n",
    "- $f = \\Omega(g)$ means $g = O(f)$\n",
    "    - this is lower bound\n",
    "    - this means best case\n",
    "- $f=\\Theta(g)$ means\n",
    "    - $f = O(g)$\n",
    "    - $f = \\Omega (g)$\n",
    "    - Tight Bound\n",
    "    - exact asymptotic behavior\n",
    "    - somewhere between upper and lower bounds"
   ]
  },
  {
   "cell_type": "markdown",
   "id": "e0edb140-f938-4478-b988-37a1a710a4bf",
   "metadata": {},
   "source": [
    "## Dominating Terms\n",
    "- multiplicative constants may be omitted. $14 n^2$ becomes $n^2$\n",
    "- $n^a$ dominates $n^b$ if $a > b$\n",
    "- Any exponent dominates polynomial\n",
    "    - $3^n$ dominates $n^5$ and $2^n$\n",
    "- Any polymonial function dominates logarithm\n",
    "    - $n$ dominates $(log n)^3$ "
   ]
  },
  {
   "cell_type": "code",
   "execution_count": null,
   "id": "7e9b0f6f-477b-4013-9c33-b09e14ffd559",
   "metadata": {},
   "outputs": [],
   "source": []
  }
 ],
 "metadata": {
  "kernelspec": {
   "display_name": "Python 3 (ipykernel)",
   "language": "python",
   "name": "python3"
  },
  "language_info": {
   "codemirror_mode": {
    "name": "ipython",
    "version": 3
   },
   "file_extension": ".py",
   "mimetype": "text/x-python",
   "name": "python",
   "nbconvert_exporter": "python",
   "pygments_lexer": "ipython3",
   "version": "3.12.9"
  }
 },
 "nbformat": 4,
 "nbformat_minor": 5
}
