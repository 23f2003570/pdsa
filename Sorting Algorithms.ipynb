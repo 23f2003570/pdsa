{
 "cells": [
  {
   "cell_type": "markdown",
   "id": "03672778-91d4-4395-abfd-0c0e56216cd5",
   "metadata": {},
   "source": [
    "# Sorting Algorithms"
   ]
  },
  {
   "cell_type": "code",
   "execution_count": 2,
   "id": "279a19d3-ddb3-4a45-b7db-05fd33775e27",
   "metadata": {},
   "outputs": [],
   "source": [
    "# %load utils/measure.py\n",
    "import time\n",
    "from functools import wraps\n",
    "\n",
    "def measure(func):\n",
    "    @wraps(func)\n",
    "    def wrapper(*args, **kwargs):\n",
    "        start = time.perf_counter_ns()\n",
    "        result = func(*args, **kwargs)\n",
    "        end = time.perf_counter_ns()\n",
    "        elapsed_ns = end - start\n",
    "        \n",
    "        if elapsed_ns < 1_000:\n",
    "            time_str = f\"{elapsed_ns} ns\"\n",
    "        elif elapsed_ns < 1_000_000:\n",
    "            time_str = f\"{elapsed_ns / 1_000:.3f} µs\"\n",
    "        elif elapsed_ns < 1_000_000_000:\n",
    "            time_str = f\"{elapsed_ns / 1_000_000:.3f} ms\"\n",
    "        else:\n",
    "            time_str = f\"{elapsed_ns / 1_000_000_000:.3f} s\"\n",
    "        \n",
    "        print(f\"Performance: {func.__name__}: {time_str}\")\n",
    "        return result\n",
    "    print(\"measure-new (util) loaded into global scope.\")\n",
    "    return wrapper\n"
   ]
  },
  {
   "cell_type": "code",
   "execution_count": 4,
   "id": "2c276d9e-cc67-44f1-9a48-f2d08299677e",
   "metadata": {},
   "outputs": [],
   "source": [
    "# %load utils/load_libs.py\n",
    "import matplotlib, math\n",
    "import matplotlib.pyplot as plt\n",
    "import numpy as np\n",
    "from scipy.interpolate import make_interp_spline\n",
    "import cProfile, pstats"
   ]
  },
  {
   "cell_type": "markdown",
   "id": "cdde679c-ba67-4fa6-8bcf-9e9212fa228f",
   "metadata": {},
   "source": [
    "## Boot Strap Code"
   ]
  },
  {
   "cell_type": "markdown",
   "id": "faa822a0-7cf2-43eb-a001-bb371cd0d597",
   "metadata": {},
   "source": [
    "### Random List Generation"
   ]
  },
  {
   "cell_type": "code",
   "execution_count": 5,
   "id": "67a41cda-e049-44ae-ba12-057b19b2f9f2",
   "metadata": {},
   "outputs": [
    {
     "name": "stdout",
     "output_type": "stream",
     "text": [
      "measure-new (util) loaded into global scope.\n"
     ]
    }
   ],
   "source": [
    "import random\n",
    "@measure\n",
    "def generate_random_list(n, maximum) -> list[int]:\n",
    "    print(f\"generating {n} random integers\")\n",
    "    result = [random.randint(1, maximum+1) for _ in range(n)]\n",
    "    return result"
   ]
  },
  {
   "cell_type": "markdown",
   "id": "fa9a5cb5-5555-4f49-9de3-7a361e3ff177",
   "metadata": {},
   "source": [
    "## Bubble Sort (recursive)"
   ]
  },
  {
   "cell_type": "code",
   "execution_count": 5,
   "id": "d3170d92-d823-4a02-911c-288fa7c7c0d9",
   "metadata": {},
   "outputs": [
    {
     "name": "stdout",
     "output_type": "stream",
     "text": [
      "measure-new (util) loaded into global scope.\n",
      "L1: [34, 1, 34, 55, 88, 89]\n",
      "L2: [1, 34, 34, 55, 88, 89]\n",
      "Performance: sort: 1.236 µs\n",
      "Performance: sort: 101.341 µs\n",
      "Performance: sort: 141.524 µs\n",
      "sorted: [1, 34, 34, 55, 88, 89] count of iterations 2\n"
     ]
    }
   ],
   "source": [
    "call_count=0\n",
    "\n",
    "@measure\n",
    "def sort(nums):\n",
    "    global call_count\n",
    "\n",
    "    sorted=False\n",
    "    for i in range(1,len(nums)):\n",
    "        if nums[i] < nums[i-1]:\n",
    "            nums[i], nums[i-1] = nums[i-1], nums[i]\n",
    "            sorted=True\n",
    "    if (sorted):\n",
    "        call_count = call_count + 1\n",
    "        print(f\"L{call_count}: {nums}\")\n",
    "        return sort(nums)\n",
    "    return nums\n",
    "\n",
    "print (f\"sorted: {sort([89,34,1,34,55,88])} count of iterations {call_count}\")"
   ]
  },
  {
   "cell_type": "markdown",
   "id": "2f0f552a-ad38-4d78-8aba-fc9ce24707a5",
   "metadata": {},
   "source": [
    "## Bubble Sort (iterative)"
   ]
  },
  {
   "cell_type": "code",
   "execution_count": 22,
   "id": "f7c3db94-d419-41cc-807b-6e1981122613",
   "metadata": {},
   "outputs": [
    {
     "name": "stdout",
     "output_type": "stream",
     "text": [
      "sorted: [1, 34, 34, 55, 88, 89]\n"
     ]
    }
   ],
   "source": [
    "def sort(nums):\n",
    "    sorted = False\n",
    "    while not sorted:\n",
    "        has_changed = False\n",
    "        for i in range (1, len(nums)):\n",
    "            if nums[i] < nums[i-1]:\n",
    "                nums[i], nums[i-1] = nums[i-1], nums[i]\n",
    "                has_changed=True\n",
    "        if not has_changed:\n",
    "            sorted = True\n",
    "    return nums\n",
    "                \n",
    "print (f\"sorted: {sort([89,34,1,34,55,88])}\")"
   ]
  },
  {
   "cell_type": "markdown",
   "id": "63576175-fb38-4926-9ef6-db218862f57d",
   "metadata": {},
   "source": [
    "## Selection Sort"
   ]
  },
  {
   "cell_type": "markdown",
   "id": "b18cbebb-4d21-442c-80c7-2ae7b1a3a501",
   "metadata": {},
   "source": [
    "Selection sort is $O(n^2)$ for every/ALL case"
   ]
  },
  {
   "cell_type": "code",
   "execution_count": 9,
   "id": "aad851c9-5cdb-4152-b8d2-c94c589183ae",
   "metadata": {},
   "outputs": [
    {
     "name": "stdout",
     "output_type": "stream",
     "text": [
      "measure-new (util) loaded into global scope.\n",
      "generating 50000 random integers\n",
      "Performance: generate_random_list: 21.203 ms\n",
      "Performance: selection_sort: 44.668 s\n",
      "Selection Sort done\n"
     ]
    }
   ],
   "source": [
    "@measure\n",
    "def selection_sort(L):\n",
    "    n = len(L)\n",
    "    if n < 1:\n",
    "        return L\n",
    "    for i in range(n):\n",
    "        mpos = i\n",
    "        for j in range(i+1, n):\n",
    "            if L[j] < L[mpos]:\n",
    "                mpos = j\n",
    "        (L[i], L[mpos]) = (L[mpos], L[i])\n",
    "    return L\n",
    "            \n",
    "\n",
    "L = generate_random_list(50000,10)\n",
    "selection_sort(L)\n",
    "print(\"Selection Sort done\")\n",
    "    \n",
    "    "
   ]
  },
  {
   "cell_type": "markdown",
   "id": "865969d7-8b90-4a55-b507-f371feb02fe4",
   "metadata": {},
   "source": [
    "## Insertion Sort (not inplace)"
   ]
  },
  {
   "cell_type": "markdown",
   "id": "18bc7561-0271-4c98-a0cb-a7b75575123c",
   "metadata": {},
   "source": [
    "- It loops through the list from the first to the last element.\n",
    "- For each element `L[i]`, it compares it **backwards** with the previous elements (`L[i-1]`, `L[i-2]`, etc.).\n",
    "- If the current element `L[j]` is smaller than the one before it (`L[j-1]`), it **swaps** them.\n",
    "- It keeps doing this until the element is in the correct position relative to everything before it.\n",
    "- After the loop is done, the list is sorted **in ascending order**.\n",
    "\n",
    "This is something like `sorted(L)` function of python  \n",
    "Worst case $O(n^2)$, Best Case $O(1)$, Average $O(n)$\n",
    "\n"
   ]
  },
  {
   "cell_type": "code",
   "execution_count": 29,
   "id": "5413b83c-7907-48db-bd65-8e04b53f56fb",
   "metadata": {},
   "outputs": [
    {
     "name": "stdout",
     "output_type": "stream",
     "text": [
      "measure-new (util) loaded into global scope.\n",
      "Original [31, 41, 59, 26, 41, 58]\n",
      "Step: 0: [31, 41, 59, 26, 41, 58]\n",
      "Step: 1: [31, 41, 59, 26, 41, 58]\n",
      "Step: 2: [31, 41, 59, 26, 41, 58]\n",
      "Step: 3: [26, 31, 41, 59, 41, 58]\n",
      "Step: 4: [26, 31, 41, 41, 59, 58]\n",
      "Step: 5: [26, 31, 41, 41, 58, 59]\n",
      "Performance: insertion_sort: 60.128 µs\n",
      "[26, 31, 41, 41, 58, 59]\n"
     ]
    }
   ],
   "source": [
    "@measure\n",
    "def insertion_sort(L):\n",
    "    n = len(L)\n",
    "    if n < 1:\n",
    "        return L\n",
    "    print(f\"Original {L}\")\n",
    "    for i in range(0,n):\n",
    "        j = i\n",
    "        while (j > 0 and L[j] < L[j-1]):\n",
    "            (L[j], L[j-1]) = (L[j-1], L[j])\n",
    "            j = j - 1\n",
    "        print(f\"Step: {i}: {L}\")\n",
    "    return L\n",
    "\n",
    "#L = generate_random_list(10_000_000, 5)\n",
    "#L = [5,2,4,6,1,3,1,2]\n",
    "# L = ['Z','D','A']\n",
    "L = [31, 41, 59, 26, 41, 58]\n",
    "print(insertion_sort(L))"
   ]
  },
  {
   "cell_type": "code",
   "execution_count": null,
   "id": "4c2ab88b-834e-4516-a7de-b9f261daa609",
   "metadata": {},
   "outputs": [],
   "source": []
  }
 ],
 "metadata": {
  "kernelspec": {
   "display_name": "Python 3 (ipykernel)",
   "language": "python",
   "name": "python3"
  },
  "language_info": {
   "codemirror_mode": {
    "name": "ipython",
    "version": 3
   },
   "file_extension": ".py",
   "mimetype": "text/x-python",
   "name": "python",
   "nbconvert_exporter": "python",
   "pygments_lexer": "ipython3",
   "version": "3.12.9"
  }
 },
 "nbformat": 4,
 "nbformat_minor": 5
}
