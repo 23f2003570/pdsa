{
 "cells": [
  {
   "cell_type": "markdown",
   "id": "76d2987d-f6ec-4803-bf68-c714c37b8ab6",
   "metadata": {},
   "source": [
    "# Algorithm Analysis"
   ]
  },
  {
   "cell_type": "code",
   "execution_count": 3,
   "id": "f8eb6ad3-032e-499b-8d2c-254ced5b2943",
   "metadata": {},
   "outputs": [],
   "source": [
    "# %load utils/measure.py\n",
    "import time\n",
    "from functools import wraps\n",
    "\n",
    "def measure(func):\n",
    "    @wraps(func)\n",
    "    def wrapper(*args, **kwargs):\n",
    "        start = time.perf_counter_ns()\n",
    "        result = func(*args, **kwargs)\n",
    "        end = time.perf_counter_ns()\n",
    "        elapsed_ns = end - start\n",
    "        \n",
    "        if elapsed_ns < 1_000:\n",
    "            time_str = f\"{elapsed_ns} ns\"\n",
    "        elif elapsed_ns < 1_000_000:\n",
    "            time_str = f\"{elapsed_ns / 1_000:.3f} µs\"\n",
    "        elif elapsed_ns < 1_000_000_000:\n",
    "            time_str = f\"{elapsed_ns / 1_000_000:.3f} ms\"\n",
    "        else:\n",
    "            time_str = f\"{elapsed_ns / 1_000_000_000:.3f} s\"\n",
    "        \n",
    "        print(f\"Performance: {func.__name__}: {time_str}\")\n",
    "        return result\n",
    "    print(\"measure-new (util) loaded into global scope.\")\n",
    "    return wrapper\n"
   ]
  },
  {
   "cell_type": "markdown",
   "id": "6ade19d0-8094-47db-a8ac-0d535f3e94c9",
   "metadata": {},
   "source": [
    "## List"
   ]
  },
  {
   "cell_type": "markdown",
   "id": "1e799666-e7da-4220-a19f-a007f3d3ff63",
   "metadata": {},
   "source": [
    "### Append to a List"
   ]
  },
  {
   "cell_type": "code",
   "execution_count": 4,
   "id": "7e04fde2-e6df-4de5-86c9-4498e3c51e7a",
   "metadata": {},
   "outputs": [
    {
     "name": "stdout",
     "output_type": "stream",
     "text": [
      "measure-new (util) loaded into global scope.\n",
      "Performance: do_append: 543.249 ms\n"
     ]
    }
   ],
   "source": [
    "@measure\n",
    "def do_append(n):\n",
    "    L = []\n",
    "    for i in range(0,n):\n",
    "        L.append(i)\n",
    "\n",
    "do_append(10_000_000)"
   ]
  },
  {
   "cell_type": "markdown",
   "id": "3a1f2bb0-414a-41e9-b531-9346117f45d4",
   "metadata": {},
   "source": [
    "## Insert in top of list"
   ]
  },
  {
   "cell_type": "code",
   "execution_count": 6,
   "id": "94552569-125e-4307-82c6-66bddbb0d333",
   "metadata": {},
   "outputs": [
    {
     "name": "stdout",
     "output_type": "stream",
     "text": [
      "measure-new (util) loaded into global scope.\n",
      "Performance: do_insert: 102.169 s\n"
     ]
    }
   ],
   "source": [
    "@measure\n",
    "def do_insert(n):\n",
    "    L = []\n",
    "    for i in range (0,n):\n",
    "        L.insert(0,i)\n",
    "\n",
    "do_insert(1_000_000)"
   ]
  },
  {
   "cell_type": "code",
   "execution_count": null,
   "id": "c43fc142-537e-4452-8033-579ac9a36741",
   "metadata": {},
   "outputs": [],
   "source": []
  }
 ],
 "metadata": {
  "kernelspec": {
   "display_name": "Python 3 (ipykernel)",
   "language": "python",
   "name": "python3"
  },
  "language_info": {
   "codemirror_mode": {
    "name": "ipython",
    "version": 3
   },
   "file_extension": ".py",
   "mimetype": "text/x-python",
   "name": "python",
   "nbconvert_exporter": "python",
   "pygments_lexer": "ipython3",
   "version": "3.12.9"
  }
 },
 "nbformat": 4,
 "nbformat_minor": 5
}
