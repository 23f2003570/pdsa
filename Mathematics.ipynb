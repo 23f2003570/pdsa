{
 "cells": [
  {
   "cell_type": "code",
   "execution_count": 1,
   "id": "0aa40a9a-2689-4b84-a494-ea487d9c07cf",
   "metadata": {},
   "outputs": [],
   "source": [
    "# %load utils/measure.py\n",
    "import time\n",
    "from functools import wraps\n",
    "\n",
    "def measure(func):\n",
    "    @wraps(func)\n",
    "    def wrapper(*args, **kwargs):\n",
    "        start = time.perf_counter_ns()\n",
    "        result = func(*args, **kwargs)\n",
    "        end = time.perf_counter_ns()\n",
    "        elapsed_ns = end - start\n",
    "        \n",
    "        if elapsed_ns < 1_000:\n",
    "            time_str = f\"{elapsed_ns} ns\"\n",
    "        elif elapsed_ns < 1_000_000:\n",
    "            time_str = f\"{elapsed_ns / 1_000:.3f} µs\"\n",
    "        elif elapsed_ns < 1_000_000_000:\n",
    "            time_str = f\"{elapsed_ns / 1_000_000:.3f} ms\"\n",
    "        else:\n",
    "            time_str = f\"{elapsed_ns / 1_000_000_000:.3f} s\"\n",
    "        \n",
    "        print(f\"Performance: {func.__name__}: {time_str}\")\n",
    "        return result\n",
    "    print(\"measure-new (util) loaded into global scope.\")\n",
    "    return wrapper\n"
   ]
  },
  {
   "cell_type": "code",
   "execution_count": 2,
   "id": "162af720-ce56-4be0-9dc4-dbb2cfa5a530",
   "metadata": {},
   "outputs": [],
   "source": [
    "# %load utils/load_libs.py\n",
    "import matplotlib, math\n",
    "import matplotlib.pyplot as plt\n",
    "import numpy as np\n",
    "from scipy.interpolate import make_interp_spline\n",
    "import cProfile, pstats"
   ]
  },
  {
   "cell_type": "markdown",
   "id": "59a7da5d-a9dd-4cf7-ada7-863f28eb1d5a",
   "metadata": {},
   "source": [
    "## Fast Inverse Square Root (ID Software Method)"
   ]
  },
  {
   "cell_type": "code",
   "execution_count": 3,
   "id": "b234d6ce-c008-4630-9e4c-44b134f9299c",
   "metadata": {
    "scrolled": true
   },
   "outputs": [
    {
     "name": "stdout",
     "output_type": "stream",
     "text": [
      "measure-new (util) loaded into global scope.\n"
     ]
    },
    {
     "name": "stdin",
     "output_type": "stream",
     "text": [
      "enter a number 1999\n"
     ]
    },
    {
     "name": "stdout",
     "output_type": "stream",
     "text": [
      "Performance: sqrt_id: 12.275 µs\n",
      "square root is 44.71017781220973. Squaring that gives 1999.0\n"
     ]
    }
   ],
   "source": [
    "import struct\n",
    "\n",
    "@measure\n",
    "def sqrt_id(number):\n",
    "    \"\"\"Compute the square root using the Quake III Arena method.\"\"\"\n",
    "    threehalfs = 1.5\n",
    "    \n",
    "    x2 = number * 0.5\n",
    "    y = number\n",
    "    \n",
    "    # pack the float into bytes, then unpack as int (bit-level manipulation)\n",
    "    i = struct.unpack('I', struct.pack('f', y))[0]\n",
    "    i = 0x5f3759df - (i >> 1)  # magic number and bit shift\n",
    "    \n",
    "    # convert bits back to float\n",
    "    y = struct.unpack('f', struct.pack('I', i))[0]\n",
    "    \n",
    "    # one iteration of Newton-Raphson method to improve accuracy\n",
    "    #y = y * (threehalfs - (x2 * y * y))\n",
    "    # since this gives 1/sqrt(number), take reciprocal to get sqrt\n",
    "\n",
    "    # 3 iterations of Newton-Raphson — a good sweet spot between performance and accuracy.\n",
    "    # Result is much closer to the actual sqrt(x) (typically < 0.001 error).\n",
    "    for _ in range(3):\n",
    "        y = y * (threehalfs - (x2 * y * y))\n",
    "\n",
    "    return number * y\n",
    "\n",
    "n = float(input(\"enter a number\"))\n",
    "\n",
    "root = sqrt_id(n)\n",
    "validation = round(root ** 2, 4)\n",
    "\n",
    "print(f\"square root is {root}. Squaring that gives {validation}\")"
   ]
  },
  {
   "cell_type": "markdown",
   "id": "fad65e45-45a8-451d-b0e9-2faf518eb4de",
   "metadata": {},
   "source": [
    "## Euclids Alorithm (Greatest Common Divisor)"
   ]
  },
  {
   "cell_type": "markdown",
   "id": "ae833f82-6084-4c58-ab34-a3194c865895",
   "metadata": {},
   "source": [
    "This algorithm uses the following method\n",
    "\n",
    "if $n$ **does not divide** $m$ then $m = qn + r$ where q=quotient, r = remainder\n",
    "\n",
    "Suppose $d$ divides both $m$ and $n$ then $m=ad$ and $n=bd$\n",
    "\n",
    "$m = qn + r$\n",
    "\n",
    "$ad = q(bd) + r$\n",
    "\n",
    "$\\to r = cd$\n",
    "\n",
    "We should ignore the $max(m,n)$, Call the gcd again with the remainer ie $gcd(min(m,n), max \\% min)$\n",
    "\n",
    "Properties of Euclid's Alogrithm\n",
    "1. time taken is proportional to number of digits in $max (m,n)$\n",
    "2. one of the first non trivial algorithms"
   ]
  },
  {
   "cell_type": "code",
   "execution_count": 37,
   "id": "691ec4d7-5264-4169-9fc9-873535d43a77",
   "metadata": {},
   "outputs": [
    {
     "name": "stdout",
     "output_type": "stream",
     "text": [
      "measure-new (util) loaded into global scope.\n",
      "gcd of 100, 1000 is 100\n",
      "Performance: find_gcd: 9.093 µs\n",
      "gcd of 500, 250 is 250\n",
      "Performance: find_gcd: 6.091 µs\n",
      "gcd of 5, 7 is 1\n",
      "Performance: find_gcd: 6.814 µs\n"
     ]
    }
   ],
   "source": [
    "def gcd(m,n):\n",
    "    (p,q) = (max(m,n), min(m,n))\n",
    "    if p%q == 0:\n",
    "        return q\n",
    "    else:\n",
    "        return gcd(q,p%q)\n",
    "@measure\n",
    "def find_gcd(p,q):\n",
    "    g = gcd(p,q)\n",
    "    print(f\"gcd of {p}, {q} is {g}\")\n",
    "\n",
    "find_gcd(100,1000)\n",
    "find_gcd(500,250)\n",
    "find_gcd(5,7)"
   ]
  },
  {
   "cell_type": "markdown",
   "id": "27a6fc4c-c39d-4f91-8b72-ea2d2fe18e1c",
   "metadata": {},
   "source": [
    "## Greatest Common Divisor / Highest Common Factor"
   ]
  },
  {
   "cell_type": "code",
   "execution_count": 20,
   "id": "70428539-8ab3-4949-a7ae-5059fa4dada0",
   "metadata": {},
   "outputs": [
    {
     "name": "stdout",
     "output_type": "stream",
     "text": [
      "GCD = 1\n"
     ]
    }
   ],
   "source": [
    "nums = [501, 20001,-30001]\n",
    "\n",
    "smallest_num = sorted(abs(i) for i in nums)[0]\n",
    "gcd = 1\n",
    "\n",
    "for i in range(1, int(smallest_num) + 1):\n",
    "    all_divisible = all(num % i == 0 for num in nums)\n",
    "    if all_divisible:\n",
    "        if (i not in factors):\n",
    "            gcd = i\n",
    "# Time Complexity = min(abs(nums))\n",
    "print (f\"GCD = {gcd}\")"
   ]
  },
  {
   "cell_type": "markdown",
   "id": "338f4c1b-2d16-4307-b4ff-d79c37ee2836",
   "metadata": {},
   "source": [
    "## Find Prime Numbers"
   ]
  },
  {
   "cell_type": "code",
   "execution_count": 15,
   "id": "217940d4-3315-4fe6-a035-dd844ac5a25a",
   "metadata": {},
   "outputs": [
    {
     "name": "stdout",
     "output_type": "stream",
     "text": [
      "measure-new (util) loaded into global scope.\n",
      "Performance: find_primes_upto: 90.036 µs\n",
      "25 primes found. [2, 3, 5, 7, 11, 13, 17, 19, 23, 29, 31, 37, 41, 43, 47, 53, 59, 61, 67, 71, 73, 79, 83, 89, 97]\n"
     ]
    }
   ],
   "source": [
    "def find_factors(n:int) -> list[int]:\n",
    "    factors = []\n",
    "    if n > 0:\n",
    "        for i in range(1, int(math.sqrt(n))+1):\n",
    "            if n % i == 0:\n",
    "                if i not in factors:\n",
    "                    factors.append(i)\n",
    "                if (n // i) not in factors:\n",
    "                    factors.append(n // i)\n",
    "    factors.sort()\n",
    "    return factors;\n",
    "\n",
    "@measure\n",
    "def find_primes_upto(n:int) -> list[int]:\n",
    "    primes = []\n",
    "    for i in range(1,n+1):\n",
    "        factors = find_factors(i)\n",
    "        if factors == [1,i]: # nice way compared to len(factors) == 2\n",
    "            primes.append(i)\n",
    "    return primes\n",
    "\n",
    "\n",
    "primes = find_primes_upto(100)\n",
    "print(f\"{len(primes)} primes found. {primes}\")"
   ]
  },
  {
   "cell_type": "markdown",
   "id": "ad59e36a-e218-4ca1-94e6-2cb4a678bb6c",
   "metadata": {},
   "source": [
    "## Find first n Primes"
   ]
  },
  {
   "cell_type": "code",
   "execution_count": 41,
   "id": "8c3ab44b-d290-4d3c-a6c4-108e935ee281",
   "metadata": {},
   "outputs": [
    {
     "name": "stdout",
     "output_type": "stream",
     "text": [
      "get_n_primes: 618.31 ms\n",
      "100 primes found. [2, 3, 5, 7, 11, 13, 17, 19, 23, 29, 31, 37, 41, 43, 47, 53, 59, 61, 67, 71, 73, 79, 83, 89, 97, 101, 103, 107, 109, 113, 127, 131, 137, 139, 149, 151, 157, 163, 167, 173, 179, 181, 191, 193, 197, 199, 211, 223, 227, 229, 233, 239, 241, 251, 257, 263, 269, 271, 277, 281, 283, 293, 307, 311, 313, 317, 331, 337, 347, 349, 353, 359, 367, 373, 379, 383, 389, 397, 401, 409, 419, 421, 431, 433, 439, 443, 449, 457, 461, 463, 467, 479, 487, 491, 499, 503, 509, 521, 523, 541]\n"
     ]
    }
   ],
   "source": [
    "def factors(num):\n",
    "    facts = []\n",
    "    for i in range(1, int(math.sqrt(num))+1):\n",
    "        if (num % i == 0 and i not in facts):\n",
    "            facts.append(i)\n",
    "            if (num//i not in facts):\n",
    "                facts.append(num//i)\n",
    "    return facts\n",
    "\n",
    "@measure\n",
    "def get_n_primes(start_at=2, count=10):\n",
    "    (index, primes) = (start_at, [])\n",
    "    \n",
    "    while len(primes) < count:\n",
    "        if index >= 1 and factors(index) == [1, index]:\n",
    "            primes.append(index)\n",
    "        index += 1\n",
    "    return primes\n",
    "\n",
    "nprimes = get_n_primes(start_at=1, count=100)\n",
    "\n",
    "print(f\"{len(nprimes)} primes found. {nprimes}\")\n",
    "            "
   ]
  },
  {
   "cell_type": "markdown",
   "id": "4c48dd7b-2178-4d99-9001-57967e318c32",
   "metadata": {},
   "source": [
    "The other prime algorithms that Professor Madhav Mukund is talking of might be\n",
    "1. Sieve of Atkin\n",
    "    - Very large set of primes\n",
    "3. Segmented Sieve\n",
    "    - for ranges $[L, R]$, where $R$ is huge\n",
    "4. Miller-Rabin Primality Test (probabilistic)\n",
    "    - Used for 100+ digit primes\n",
    "5. AKS Primality Test\n",
    "    - Theoreticallly important\n",
    "\n"
   ]
  },
  {
   "cell_type": "markdown",
   "id": "65833500-a5c2-4bda-96f4-8d5131a76870",
   "metadata": {},
   "source": [
    "## Difference Between Primes"
   ]
  },
  {
   "cell_type": "code",
   "execution_count": 26,
   "id": "70bcaf36-1443-4262-ba75-1de79b1a85ab",
   "metadata": {},
   "outputs": [
    {
     "name": "stdout",
     "output_type": "stream",
     "text": [
      "measure-new (util) loaded into global scope.\n",
      "Performance: find_primes_return_difference_freq: 36.824 s\n"
     ]
    },
    {
     "data": {
      "image/png": "[encoded data removed]",
      "text/plain": [
       "<Figure size 1600x1000 with 1 Axes>"
      ]
     },
     "metadata": {},
     "output_type": "display_data"
    }
   ],
   "source": [
    "def find_factors(num):\n",
    "    factors = []\n",
    "    if num > 0:\n",
    "        for i in range(1, int(math.sqrt(num)) + 1):\n",
    "            if num % i == 0:\n",
    "                if i not in factors:\n",
    "                    factors.append(i)\n",
    "                if num//i not in factors:\n",
    "                    factors.append(num//i)\n",
    "    return factors\n",
    "\n",
    "\n",
    "@measure\n",
    "def find_primes_return_difference_freq(count):\n",
    "    mapped = {}\n",
    "    primes = []\n",
    "    i = 2;\n",
    "    \n",
    "    while len(primes) < count:\n",
    "        if find_factors(i) == [1,i]:\n",
    "            primes.append(i)\n",
    "            if (len(primes) > 1):\n",
    "                diff = primes[-1]-primes[-2]\n",
    "                if diff in mapped:\n",
    "                    mapped[diff] += 1\n",
    "                else:\n",
    "                    mapped[diff] = 1\n",
    "        i = i + 1\n",
    "\n",
    "    return mapped\n",
    "\n",
    "\n",
    "mapped = find_primes_return_difference_freq(count=100000)\n",
    "\n",
    "x_axis = sorted([diff for diff in mapped])\n",
    "y_axis = [mapped[x] for x in x_axis]\n",
    "\n",
    "plt.figure(figsize=(16,10))\n",
    "plt.scatter(x_axis, y_axis, s=9)\n",
    "\n",
    "x_smooth = np.linspace(min(x_axis), max(x_axis), 300)\n",
    "spline = make_interp_spline(x_axis, y_axis, k=3)\n",
    "y_smooth = spline(x_smooth)\n",
    "\n",
    "plt.plot(x_smooth, y_smooth, color='purple', linewidth=2, label='Trend')\n",
    "plt.grid(True, linestyle='--', color='orange', linewidth=0.5, alpha=0.5)\n",
    "\n",
    "plt.xlabel(\"Difference (current - previous prime)\")\n",
    "plt.ylabel(\"Occurances\")\n",
    "plt.title(\"Scatter plot of differences between 2 consequent primes\")\n",
    "plt.show()"
   ]
  },
  {
   "cell_type": "markdown",
   "id": "3157eabd-5232-4866-b6c2-12ddd25d07ef",
   "metadata": {},
   "source": [
    "## Miller Rabin method of Prime Testing"
   ]
  },
  {
   "cell_type": "code",
   "execution_count": 34,
   "id": "3d68f6b6-b441-41f0-80a5-ce847d0aa50a",
   "metadata": {},
   "outputs": [
    {
     "name": "stdout",
     "output_type": "stream",
     "text": [
      "measure-new (util) loaded into global scope.\n",
      "Performance: is_probable_prime: 38.998 µs\n",
      "32416190071 is prime\n",
      "Performance: is_probable_prime: 40.849 µs\n",
      "67280421310721 is prime\n"
     ]
    }
   ],
   "source": [
    "import random\n",
    "\n",
    "@measure\n",
    "def is_probable_prime(n, k=5):  # number of tests\n",
    "    if n <= 1 or n == 4:\n",
    "        return False\n",
    "    if n <= 3:\n",
    "        return True\n",
    "\n",
    "    # write n-1 as 2^r * d\n",
    "    d = n - 1\n",
    "    r = 0\n",
    "    while d % 2 == 0:\n",
    "        d //= 2\n",
    "        r += 1\n",
    "\n",
    "    for _ in range(k):\n",
    "        a = random.randint(2, n - 2)\n",
    "        x = pow(a, d, n)\n",
    "        if x == 1 or x == n - 1:\n",
    "            continue\n",
    "        for _ in range(r - 1):\n",
    "            x = pow(x, 2, n)\n",
    "            if x == n - 1:\n",
    "                break\n",
    "        else:\n",
    "            return False\n",
    "    return True\n",
    "def test_prime(p):\n",
    "    print(f\"{p} is {'prime' if is_probable_prime(p) else 'not prime'}\")\n",
    "\n",
    "test_prime(32416190071)\n",
    "test_prime(67280421310721)"
   ]
  },
  {
   "cell_type": "markdown",
   "id": "7e24f808-9352-457e-99a9-90b4b883b36d",
   "metadata": {},
   "source": [
    "# Search Algorithms"
   ]
  },
  {
   "cell_type": "markdown",
   "id": "5329dbf2-24c7-4206-950b-5a2c5affe795",
   "metadata": {},
   "source": [
    "## O(N) Search"
   ]
  },
  {
   "cell_type": "code",
   "execution_count": 12,
   "id": "b4db72de-471c-442f-b2df-9da1310ca6ab",
   "metadata": {},
   "outputs": [
    {
     "name": "stdout",
     "output_type": "stream",
     "text": [
      "measure-new (util) loaded into global scope.\n",
      "measure-new (util) loaded into global scope.\n",
      "generating 1000000 integers\n",
      "Performance: generate_list: 461.897 ms\n",
      "Performance: find: 39.938 ms\n",
      "1000000\n"
     ]
    }
   ],
   "source": [
    "import random\n",
    "\n",
    "@measure\n",
    "def generate_list(n) -> list[int]:\n",
    "    print(f\"generating {n} integers\")\n",
    "    result = [random.randint(1, n) for _ in range(n)]\n",
    "    return result\n",
    "\n",
    "@measure\n",
    "def find(val, lst) -> int:\n",
    "    pos = 0\n",
    "    for l in lst:\n",
    "        if val == l:\n",
    "            return pos\n",
    "        pos += 1\n",
    "\n",
    "    return -1\n",
    "\n",
    "lst = generate_list(1_000_000)\n",
    "lst.append(1000988)\n",
    "print (find(1000988, lst))"
   ]
  },
  {
   "cell_type": "markdown",
   "id": "07c0ed1b-ce2f-4225-8a33-822adb42d399",
   "metadata": {},
   "source": [
    "## $\\log_{2}{N}$ Time"
   ]
  },
  {
   "cell_type": "code",
   "execution_count": 24,
   "id": "7b807831-9ab7-4ac5-8273-3d1aad1b0afb",
   "metadata": {},
   "outputs": [
    {
     "name": "stdout",
     "output_type": "stream",
     "text": [
      "measure-new (util) loaded into global scope.\n",
      "measure-new (util) loaded into global scope.\n",
      "Performance: generate: 19.646 ms\n",
      "Performance: find: 7.425 ms\n",
      "True\n"
     ]
    }
   ],
   "source": [
    "def find_internal(val, lst):\n",
    "    if lst == []:\n",
    "        return False\n",
    "    m = len(lst)//2\n",
    "    if lst[m] == val:\n",
    "        return True\n",
    "    if val < lst[m]:\n",
    "        return find_internal(val, lst[:m])\n",
    "    else:\n",
    "        return find_internal(val, lst[m+1:])\n",
    "\n",
    "@measure\n",
    "def find(val, lst) -> int:\n",
    "    return find_internal(val, lst)\n",
    "\n",
    "@measure\n",
    "def generate(n):\n",
    "    lst = list(range(0,n))\n",
    "    return lst\n",
    "\n",
    "lst = generate(1_000_000)\n",
    "lst.append(1000988)\n",
    "print (find(1000988, lst))"
   ]
  },
  {
   "cell_type": "markdown",
   "id": "3ef87085-a0da-4806-b180-4a5a6d39cd24",
   "metadata": {},
   "source": [
    "# NMTC Sub Junior"
   ]
  },
  {
   "cell_type": "code",
   "execution_count": 1,
   "id": "067901b6-f0a8-4f34-8df5-4ab9244777cd",
   "metadata": {},
   "outputs": [
    {
     "name": "stdout",
     "output_type": "stream",
     "text": [
      "2021.0\n"
     ]
    }
   ],
   "source": [
    "import math\n",
    "\n",
    "c3 = math.sqrt(2021*2019 + 1)\n",
    "c2 = math.sqrt(2022*c3 + 1)\n",
    "c1 = math.sqrt(2023 * c2)\n",
    "\n",
    "print (c2)\n"
   ]
  },
  {
   "cell_type": "code",
   "execution_count": null,
   "id": "1ea431e0-ecfa-4e3b-bc9d-a6a907fc4fe3",
   "metadata": {},
   "outputs": [],
   "source": []
  }
 ],
 "metadata": {
  "kernelspec": {
   "display_name": "Python 3 (ipykernel)",
   "language": "python",
   "name": "python3"
  },
  "language_info": {
   "codemirror_mode": {
    "name": "ipython",
    "version": 3
   },
   "file_extension": ".py",
   "mimetype": "text/x-python",
   "name": "python",
   "nbconvert_exporter": "python",
   "pygments_lexer": "ipython3",
   "version": "3.12.9"
  }
 },
 "nbformat": 4,
 "nbformat_minor": 5
}
